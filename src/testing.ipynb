{
 "cells": [
  {
   "cell_type": "code",
   "execution_count": 1,
   "metadata": {},
   "outputs": [],
   "source": [
    "from tensorflow import keras\n",
    "from tensorflow.keras.applications.resnet50 import preprocess_input, decode_predictions\n",
    "from tensorflow.keras.preprocessing import image\n",
    "\n",
    "from tensorflow.keras.preprocessing.image import img_to_array\n",
    "import cv2\n",
    "\n",
    "import numpy as np\n",
    "import matplotlib.pyplot as pl"
   ]
  },
  {
   "cell_type": "code",
   "execution_count": 2,
   "metadata": {},
   "outputs": [],
   "source": [
    "# def classify(img_path, saved_model, class_names):\n",
    "#     # Preprocess image\n",
    "#     IMG_SIZE = 150\n",
    "#     img = cv2.imread(img_path, cv2.IMREAD_COLOR)\n",
    "#     img = cv2.resize(img, (IMG_SIZE, IMG_SIZE))\n",
    "#     img = cv2.GaussianBlur(img, (5, 5), 0)\n",
    "#     img = img.astype(\"float\") / 255.0\n",
    "#     img_array = image.img_to_array(img)\n",
    "#     img_batch = np.expand_dims(img_array, axis=0)\n",
    "    \n",
    "#     prediction = saved_model.predict(img_batch)\n",
    "#     # print(prediction)\n",
    "#     print(class_names[np.argmax(prediction)] + '(' + str(round(100*np.max(prediction), 2)) + '%)')"
   ]
  },
  {
   "cell_type": "code",
   "execution_count": 3,
   "metadata": {},
   "outputs": [],
   "source": [
    "# class_names = ['No Varroa', 'With Varroa']"
   ]
  },
  {
   "cell_type": "code",
   "execution_count": 4,
   "metadata": {},
   "outputs": [],
   "source": [
    "# classify('../datasets/varroa_test_set/healthy/001_003.jpeg', loaded_model, class_names)"
   ]
  },
  {
   "cell_type": "code",
   "execution_count": 5,
   "metadata": {},
   "outputs": [],
   "source": [
    "# def show_images(files, titles = None, show_size = False):\n",
    "#     cols = 4\n",
    "#     f, ax = plt.subplots(nrows=int(np.ceil(len(files)/cols)),ncols=cols, figsize=(14,5))\n",
    "#     ax = ax.flatten()\n",
    "#     for i, file in enumerate(files):\n",
    "#         if titles:\n",
    "#             show_image(file, ax = ax[i], title = titles[i], show_size = show_size)\n",
    "#         else:\n",
    "#             show_image(file, ax = ax[i], title = None, show_size = show_size)\n",
    "#     plt.show()"
   ]
  },
  {
   "cell_type": "code",
   "execution_count": 6,
   "metadata": {},
   "outputs": [
    {
     "data": {
      "text/plain": [
       "<tensorflow.python.keras.engine.sequential.Sequential at 0x7f3450986550>"
      ]
     },
     "execution_count": 6,
     "metadata": {},
     "output_type": "execute_result"
    }
   ],
   "source": [
    "# load model\n",
    "model_path = '../models/varroa_detection_v0'\n",
    "loaded_model = keras.models.load_model(model_path)\n",
    "loaded_model"
   ]
  },
  {
   "cell_type": "code",
   "execution_count": 7,
   "metadata": {},
   "outputs": [],
   "source": [
    "IDEAL_WIDTH = 54\n",
    "IDEAL_HEIGHT = 50"
   ]
  },
  {
   "cell_type": "code",
   "execution_count": 8,
   "metadata": {},
   "outputs": [],
   "source": [
    "img_path = '../datasets/varroa_test_set/has_varroa/001_001.jpeg'\n",
    "img = image.load_img(img_path, target_size=(IDEAL_WIDTH, IDEAL_HEIGHT))\n",
    "# img_array = image.img_to_array(img)\n",
    "# img_array = img_array / 255.0 - 0.5\n",
    "# show_image(img)\n",
    "# img_array"
   ]
  },
  {
   "cell_type": "code",
   "execution_count": 9,
   "metadata": {},
   "outputs": [
    {
     "data": {
      "text/plain": [
       "array([[0.]], dtype=float32)"
      ]
     },
     "execution_count": 9,
     "metadata": {},
     "output_type": "execute_result"
    }
   ],
   "source": [
    "img_array = image.img_to_array(img)\n",
    "img_batch = np.expand_dims(img_array, axis=0)\n",
    "img_preprocessed = preprocess_input(img_batch)\n",
    "prediction = loaded_model.predict(img_preprocessed)\n",
    "prediction"
   ]
  },
  {
   "cell_type": "code",
   "execution_count": 48,
   "metadata": {},
   "outputs": [],
   "source": []
  }
 ],
 "metadata": {
  "kernelspec": {
   "display_name": "Python 3",
   "language": "python",
   "name": "python3"
  },
  "language_info": {
   "codemirror_mode": {
    "name": "ipython",
    "version": 3
   },
   "file_extension": ".py",
   "mimetype": "text/x-python",
   "name": "python",
   "nbconvert_exporter": "python",
   "pygments_lexer": "ipython3",
   "version": "3.6.9"
  }
 },
 "nbformat": 4,
 "nbformat_minor": 4
}

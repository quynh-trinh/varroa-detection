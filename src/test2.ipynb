{
 "cells": [
  {
   "cell_type": "code",
<<<<<<< HEAD
   "execution_count": 63,
=======
   "execution_count": 13,
>>>>>>> ac1d302a7ddc9757035bebbd80f838394c8bbae9
   "metadata": {},
   "outputs": [],
   "source": [
    "import matplotlib.pyplot as plt\n",
    "import numpy as np # linear algebra\n",
    "import pandas as pd # data processing, CSV file I/O (e.g. pd.read_csv)\n",
    "import os\n",
    "import PIL\n",
    "import tensorflow as tf\n",
    "import pathlib\n",
<<<<<<< HEAD
    "from keras import regularizers\n",
=======
>>>>>>> ac1d302a7ddc9757035bebbd80f838394c8bbae9
    " \n",
    "from PIL import ImageShow\n",
    "from tensorflow import keras\n",
    "from tensorflow.keras import layers\n",
<<<<<<< HEAD
    "from tensorflow.keras.models import Sequential\n",
    "from keras.optimizers import Adam, RMSprop, SGD\n",
    "from keras.preprocessing.image import ImageDataGenerator\n"
=======
    "from tensorflow.keras.models import Sequential"
>>>>>>> ac1d302a7ddc9757035bebbd80f838394c8bbae9
   ]
  },
  {
   "cell_type": "code",
<<<<<<< HEAD
   "execution_count": 64,
=======
   "execution_count": 14,
>>>>>>> ac1d302a7ddc9757035bebbd80f838394c8bbae9
   "metadata": {},
   "outputs": [
    {
     "data": {
      "text/plain": [
<<<<<<< HEAD
       "array(['few_var', 'varroa', 'healthy'], dtype='<U7')"
      ]
     },
     "execution_count": 64,
=======
       "579"
      ]
     },
     "execution_count": 14,
>>>>>>> ac1d302a7ddc9757035bebbd80f838394c8bbae9
     "metadata": {},
     "output_type": "execute_result"
    }
   ],
   "source": [
    "my_data = pd.read_csv('../datasets/annotated_honeybee/bee_data.csv')\n",
    "dataset_path = '../datasets/annotated_honeybee/bee_imgs2'\n",
    "data_dir = pathlib.Path(dataset_path)\n",
<<<<<<< HEAD
    "image_count = len(list(data_dir.glob('*/*.png')))\n",
    "CLASS_NAMES = np.array([item.name for item in data_dir.glob('*')])\n",
    "CLASS_NAMES"
=======
    "image_count = len(list(data_dir.glob('few_var/*.png')))\n",
    "image_count"
>>>>>>> ac1d302a7ddc9757035bebbd80f838394c8bbae9
   ]
  },
  {
   "cell_type": "code",
<<<<<<< HEAD
   "execution_count": 65,
   "metadata": {},
   "outputs": [],
   "source": [
    "batch_size = 54\n",
    "img_height = 150\n",
    "img_width = 150\n",
    "datagen_params = {\n",
    "    \"horizontal_flip\"  : True,    \n",
    "    \"vertical_flip\"    : True,\n",
    "    \"rotation_range\"   : 60,\n",
    "    \"brightness_range\" : [.7, 1.]\n",
    "}"
   ]
  },
  {
   "cell_type": "code",
   "execution_count": 66,
   "metadata": {},
   "outputs": [],
   "source": [
    "def normalize(image):\n",
    "    '''\n",
    "    Returns the given np.array image rescaled and normalized to be between -.5 and .5\n",
    "    \n",
    "    Source: https://www.jeremyjordan.me/batch-normalization/\n",
    "    '''\n",
    "    return (image/255. - 0.5)"
   ]
  },
  {
   "cell_type": "code",
   "execution_count": 67,
   "metadata": {},
   "outputs": [
    {
     "name": "stdout",
     "output_type": "stream",
     "text": [
      "Found 4443 images belonging to 3 classes.\n",
      "Found 1331 images belonging to 3 classes.\n"
     ]
    }
   ],
   "source": [
    "train_datagen = ImageDataGenerator(\n",
    "    horizontal_flip  = datagen_params.get(\"horizontal_flip\") or False, \n",
    "    vertical_flip    = datagen_params.get(\"vertical_flip\") or False, \n",
    "    rotation_range   = datagen_params.get(\"rotation_range\") or False,\n",
    "    brightness_range = datagen_params.get(\"brightness_range\"),\n",
    "    preprocessing_function = normalize\n",
    ")\n",
    "train_generator = train_datagen.flow_from_directory(\n",
    "        dataset_path,\n",
    "        target_size=(img_height, img_width),\n",
    "        batch_size=batch_size,\n",
    "        \n",
    ")\n",
    "test_datagen = ImageDataGenerator(\n",
    "    validation_split=0.3,\n",
    "    preprocessing_function = normalize\n",
    ")\n",
    "validation_generator = test_datagen.flow_from_directory(\n",
    "        dataset_path,\n",
    "        subset=\"validation\",\n",
    "        target_size=(img_height, img_width),\n",
    "        batch_size=batch_size,\n",
    ")"
   ]
  },
  {
   "cell_type": "code",
   "execution_count": 68,
   "metadata": {},
   "outputs": [],
   "source": [
    "# val_ds = tf.keras.preprocessing.image_dataset_from_directory(\n",
    "#     data_dir,\n",
    "#     validation_split=0.3,\n",
    "#     subset=\"validation\",\n",
    "#     seed=123,\n",
    "#     image_size=(img_height, img_width),\n",
    "#     batch_size=batch_size\n",
    "# )\n",
    "# type(val_ds)\n",
    "\n",
    "# plt.figure(figsize=(10, 10))\n",
    "# for images, labels in train_ds.take(1):\n",
    "#     for i in range(9):\n",
    "#         ax = plt.subplot(3, 3, i + 1)\n",
    "#         plt.imshow(images[i].numpy().astype(\"uint8\"))\n",
    "#         plt.title(class_names[labels[i]])\n",
    "#         plt.axis(\"off\")\n",
    "#         plt.show() #NEEDED. Will not display images unless this is added.\n",
    "\n",
    "# AUTOTUNE = tf.data.experimental.AUTOTUNE\n",
    "\n",
    "# train_ds = train_ds.cache().shuffle(1000).prefetch(buffer_size=AUTOTUNE)\n",
    "# val_ds = val_ds.cache().prefetch(buffer_size=AUTOTUNE)\n",
    "\n",
    "# normalization_layer = layers.experimental.preprocessing.Rescaling(1./255)\n",
    "\n",
    "# normalized_ds = train_ds.map(lambda x, y: (normalization_layer(x), y))\n",
    "# image_batch, labels_batch = next(iter(normalized_ds))\n",
    "# first_image = image_batch[0]"
   ]
  },
  {
   "cell_type": "code",
   "execution_count": 71,
   "metadata": {},
   "outputs": [],
   "source": [
    "num_classes = 3\n",
    "\n",
    "model = Sequential([\n",
    "    layers.experimental.preprocessing.Rescaling(1./255, input_shape=(img_height, img_width, 3)),\n",
    "    layers.Conv2D(64, (4,4), padding='same', activation='relu', kernel_regularizer=regularizers.l2(l=0.01)),\n",
    "    layers.MaxPooling2D((2, 2)),\n",
    "    layers.Dropout(0.4),\n",
    "    layers.Conv2D(128, (3,3), padding='same', activation='relu', kernel_regularizer=regularizers.l2(l=0.01)),\n",
    "    layers.MaxPooling2D((2, 2)),\n",
    "    layers.Dropout(0.4),\n",
    "    layers.Conv2D(32, (3,3), padding='same', activation='relu',\n",
    "#                   kernel_initializer ='he_normal', input_shape=(img_height, img_width, 3)\n",
    "     ),\n",
    "    layers.MaxPooling2D((2, 2)),\n",
    "    layers.Dropout(0.4),\n",
    "    \n",
    "    layers.Flatten(),\n",
    "    layers.Dense(128, activation='relu'),\n",
    "    layers.Dropout(0.2),\n",
    "    layers.Dense(num_classes, activation='softmax')\n",
    "])\n",
    "# model.compile(\n",
    "#     optimizer='adam',\n",
    "#     metrics=['accuracy'],\n",
    "#     loss = 'categorical_crossentropy',\n",
    "# )\n",
    "opt = SGD(lr=0.01, momentum=0.9)\n",
    "model.compile(optimizer='Adam', metrics=['accuracy'])\n"
   ]
  },
  {
   "cell_type": "code",
   "execution_count": 72,
=======
   "execution_count": 15,
>>>>>>> ac1d302a7ddc9757035bebbd80f838394c8bbae9
   "metadata": {},
   "outputs": [
    {
     "name": "stdout",
     "output_type": "stream",
     "text": [
<<<<<<< HEAD
      "Epoch 1/50\n",
      "WARNING:tensorflow:Gradients do not exist for variables ['conv2d_27/bias:0', 'conv2d_28/bias:0', 'conv2d_29/kernel:0', 'conv2d_29/bias:0', 'dense_18/kernel:0', 'dense_18/bias:0', 'dense_19/kernel:0', 'dense_19/bias:0'] when minimizing the loss.\n",
      "WARNING:tensorflow:Gradients do not exist for variables ['conv2d_27/bias:0', 'conv2d_28/bias:0', 'conv2d_29/kernel:0', 'conv2d_29/bias:0', 'dense_18/kernel:0', 'dense_18/bias:0', 'dense_19/kernel:0', 'dense_19/bias:0'] when minimizing the loss.\n",
      "83/83 [==============================] - 44s 518ms/step - loss: 0.4129 - accuracy: 0.3341 - val_loss: 9.1141e-04 - val_accuracy: 0.1510\n",
      "Epoch 2/50\n",
      "83/83 [==============================] - 43s 514ms/step - loss: 2.8988e-04 - accuracy: 0.2536 - val_loss: 9.0218e-08 - val_accuracy: 0.1315\n",
      "Epoch 3/50\n",
      "83/83 [==============================] - 42s 510ms/step - loss: 2.7871e-08 - accuracy: 0.1322 - val_loss: 2.1113e-10 - val_accuracy: 0.1315\n",
      "Epoch 4/50\n",
      "10/83 [==>...........................] - ETA: 36s - loss: 1.8684e-10 - accuracy: 0.1425"
     ]
    },
    {
     "ename": "KeyboardInterrupt",
     "evalue": "",
     "output_type": "error",
     "traceback": [
      "\u001b[0;31m---------------------------------------------------------------------------\u001b[0m",
      "\u001b[0;31mKeyboardInterrupt\u001b[0m                         Traceback (most recent call last)",
      "\u001b[0;32m<ipython-input-72-72229a5bc36b>\u001b[0m in \u001b[0;36m<module>\u001b[0;34m\u001b[0m\n\u001b[1;32m      3\u001b[0m   \u001b[0mtrain_generator\u001b[0m\u001b[0;34m,\u001b[0m\u001b[0;34m\u001b[0m\u001b[0;34m\u001b[0m\u001b[0m\n\u001b[1;32m      4\u001b[0m   \u001b[0mvalidation_data\u001b[0m\u001b[0;34m=\u001b[0m\u001b[0mvalidation_generator\u001b[0m\u001b[0;34m,\u001b[0m\u001b[0;34m\u001b[0m\u001b[0;34m\u001b[0m\u001b[0m\n\u001b[0;32m----> 5\u001b[0;31m   \u001b[0mepochs\u001b[0m\u001b[0;34m=\u001b[0m\u001b[0mepochs\u001b[0m\u001b[0;34m\u001b[0m\u001b[0;34m\u001b[0m\u001b[0m\n\u001b[0m\u001b[1;32m      6\u001b[0m )\n\u001b[1;32m      7\u001b[0m \u001b[0;31m# history = model.fit(\u001b[0m\u001b[0;34m\u001b[0m\u001b[0;34m\u001b[0m\u001b[0;34m\u001b[0m\u001b[0m\n",
      "\u001b[0;32m/usr/local/lib/python3.6/dist-packages/tensorflow/python/keras/engine/training.py\u001b[0m in \u001b[0;36mfit\u001b[0;34m(self, x, y, batch_size, epochs, verbose, callbacks, validation_split, validation_data, shuffle, class_weight, sample_weight, initial_epoch, steps_per_epoch, validation_steps, validation_batch_size, validation_freq, max_queue_size, workers, use_multiprocessing)\u001b[0m\n\u001b[1;32m   1155\u001b[0m                 _r=1):\n\u001b[1;32m   1156\u001b[0m               \u001b[0mcallbacks\u001b[0m\u001b[0;34m.\u001b[0m\u001b[0mon_train_batch_begin\u001b[0m\u001b[0;34m(\u001b[0m\u001b[0mstep\u001b[0m\u001b[0;34m)\u001b[0m\u001b[0;34m\u001b[0m\u001b[0;34m\u001b[0m\u001b[0m\n\u001b[0;32m-> 1157\u001b[0;31m               \u001b[0mtmp_logs\u001b[0m \u001b[0;34m=\u001b[0m \u001b[0mself\u001b[0m\u001b[0;34m.\u001b[0m\u001b[0mtrain_function\u001b[0m\u001b[0;34m(\u001b[0m\u001b[0miterator\u001b[0m\u001b[0;34m)\u001b[0m\u001b[0;34m\u001b[0m\u001b[0;34m\u001b[0m\u001b[0m\n\u001b[0m\u001b[1;32m   1158\u001b[0m               \u001b[0;32mif\u001b[0m \u001b[0mdata_handler\u001b[0m\u001b[0;34m.\u001b[0m\u001b[0mshould_sync\u001b[0m\u001b[0;34m:\u001b[0m\u001b[0;34m\u001b[0m\u001b[0;34m\u001b[0m\u001b[0m\n\u001b[1;32m   1159\u001b[0m                 \u001b[0mcontext\u001b[0m\u001b[0;34m.\u001b[0m\u001b[0masync_wait\u001b[0m\u001b[0;34m(\u001b[0m\u001b[0;34m)\u001b[0m\u001b[0;34m\u001b[0m\u001b[0;34m\u001b[0m\u001b[0m\n",
      "\u001b[0;32m/usr/local/lib/python3.6/dist-packages/tensorflow/python/eager/def_function.py\u001b[0m in \u001b[0;36m__call__\u001b[0;34m(self, *args, **kwds)\u001b[0m\n\u001b[1;32m    865\u001b[0m     \u001b[0mtracing_count\u001b[0m \u001b[0;34m=\u001b[0m \u001b[0mself\u001b[0m\u001b[0;34m.\u001b[0m\u001b[0mexperimental_get_tracing_count\u001b[0m\u001b[0;34m(\u001b[0m\u001b[0;34m)\u001b[0m\u001b[0;34m\u001b[0m\u001b[0;34m\u001b[0m\u001b[0m\n\u001b[1;32m    866\u001b[0m     \u001b[0;32mwith\u001b[0m \u001b[0mtrace\u001b[0m\u001b[0;34m.\u001b[0m\u001b[0mTrace\u001b[0m\u001b[0;34m(\u001b[0m\u001b[0mself\u001b[0m\u001b[0;34m.\u001b[0m\u001b[0m_name\u001b[0m\u001b[0;34m)\u001b[0m \u001b[0;32mas\u001b[0m \u001b[0mtm\u001b[0m\u001b[0;34m:\u001b[0m\u001b[0;34m\u001b[0m\u001b[0;34m\u001b[0m\u001b[0m\n\u001b[0;32m--> 867\u001b[0;31m       \u001b[0mresult\u001b[0m \u001b[0;34m=\u001b[0m \u001b[0mself\u001b[0m\u001b[0;34m.\u001b[0m\u001b[0m_call\u001b[0m\u001b[0;34m(\u001b[0m\u001b[0;34m*\u001b[0m\u001b[0margs\u001b[0m\u001b[0;34m,\u001b[0m \u001b[0;34m**\u001b[0m\u001b[0mkwds\u001b[0m\u001b[0;34m)\u001b[0m\u001b[0;34m\u001b[0m\u001b[0;34m\u001b[0m\u001b[0m\n\u001b[0m\u001b[1;32m    868\u001b[0m       \u001b[0mcompiler\u001b[0m \u001b[0;34m=\u001b[0m \u001b[0;34m\"xla\"\u001b[0m \u001b[0;32mif\u001b[0m \u001b[0mself\u001b[0m\u001b[0;34m.\u001b[0m\u001b[0m_jit_compile\u001b[0m \u001b[0;32melse\u001b[0m \u001b[0;34m\"nonXla\"\u001b[0m\u001b[0;34m\u001b[0m\u001b[0;34m\u001b[0m\u001b[0m\n\u001b[1;32m    869\u001b[0m       \u001b[0mnew_tracing_count\u001b[0m \u001b[0;34m=\u001b[0m \u001b[0mself\u001b[0m\u001b[0;34m.\u001b[0m\u001b[0mexperimental_get_tracing_count\u001b[0m\u001b[0;34m(\u001b[0m\u001b[0;34m)\u001b[0m\u001b[0;34m\u001b[0m\u001b[0;34m\u001b[0m\u001b[0m\n",
      "\u001b[0;32m/usr/local/lib/python3.6/dist-packages/tensorflow/python/eager/def_function.py\u001b[0m in \u001b[0;36m_call\u001b[0;34m(self, *args, **kwds)\u001b[0m\n\u001b[1;32m    893\u001b[0m       \u001b[0;31m# In this case we have created variables on the first call, so we run the\u001b[0m\u001b[0;34m\u001b[0m\u001b[0;34m\u001b[0m\u001b[0;34m\u001b[0m\u001b[0m\n\u001b[1;32m    894\u001b[0m       \u001b[0;31m# defunned version which is guaranteed to never create variables.\u001b[0m\u001b[0;34m\u001b[0m\u001b[0;34m\u001b[0m\u001b[0;34m\u001b[0m\u001b[0m\n\u001b[0;32m--> 895\u001b[0;31m       \u001b[0;32mreturn\u001b[0m \u001b[0mself\u001b[0m\u001b[0;34m.\u001b[0m\u001b[0m_stateless_fn\u001b[0m\u001b[0;34m(\u001b[0m\u001b[0;34m*\u001b[0m\u001b[0margs\u001b[0m\u001b[0;34m,\u001b[0m \u001b[0;34m**\u001b[0m\u001b[0mkwds\u001b[0m\u001b[0;34m)\u001b[0m  \u001b[0;31m# pylint: disable=not-callable\u001b[0m\u001b[0;34m\u001b[0m\u001b[0;34m\u001b[0m\u001b[0m\n\u001b[0m\u001b[1;32m    896\u001b[0m     \u001b[0;32melif\u001b[0m \u001b[0mself\u001b[0m\u001b[0;34m.\u001b[0m\u001b[0m_stateful_fn\u001b[0m \u001b[0;32mis\u001b[0m \u001b[0;32mnot\u001b[0m \u001b[0;32mNone\u001b[0m\u001b[0;34m:\u001b[0m\u001b[0;34m\u001b[0m\u001b[0;34m\u001b[0m\u001b[0m\n\u001b[1;32m    897\u001b[0m       \u001b[0;31m# Release the lock early so that multiple threads can perform the call\u001b[0m\u001b[0;34m\u001b[0m\u001b[0;34m\u001b[0m\u001b[0;34m\u001b[0m\u001b[0m\n",
      "\u001b[0;32m/usr/local/lib/python3.6/dist-packages/tensorflow/python/eager/function.py\u001b[0m in \u001b[0;36m__call__\u001b[0;34m(self, *args, **kwargs)\u001b[0m\n\u001b[1;32m   3017\u001b[0m        filtered_flat_args) = self._maybe_define_function(args, kwargs)\n\u001b[1;32m   3018\u001b[0m     return graph_function._call_flat(\n\u001b[0;32m-> 3019\u001b[0;31m         filtered_flat_args, captured_inputs=graph_function.captured_inputs)  # pylint: disable=protected-access\n\u001b[0m\u001b[1;32m   3020\u001b[0m \u001b[0;34m\u001b[0m\u001b[0m\n\u001b[1;32m   3021\u001b[0m   \u001b[0;34m@\u001b[0m\u001b[0mproperty\u001b[0m\u001b[0;34m\u001b[0m\u001b[0;34m\u001b[0m\u001b[0m\n",
      "\u001b[0;32m/usr/local/lib/python3.6/dist-packages/tensorflow/python/eager/function.py\u001b[0m in \u001b[0;36m_call_flat\u001b[0;34m(self, args, captured_inputs, cancellation_manager)\u001b[0m\n\u001b[1;32m   1959\u001b[0m       \u001b[0;31m# No tape is watching; skip to running the function.\u001b[0m\u001b[0;34m\u001b[0m\u001b[0;34m\u001b[0m\u001b[0;34m\u001b[0m\u001b[0m\n\u001b[1;32m   1960\u001b[0m       return self._build_call_outputs(self._inference_function.call(\n\u001b[0;32m-> 1961\u001b[0;31m           ctx, args, cancellation_manager=cancellation_manager))\n\u001b[0m\u001b[1;32m   1962\u001b[0m     forward_backward = self._select_forward_and_backward_functions(\n\u001b[1;32m   1963\u001b[0m         \u001b[0margs\u001b[0m\u001b[0;34m,\u001b[0m\u001b[0;34m\u001b[0m\u001b[0;34m\u001b[0m\u001b[0m\n",
      "\u001b[0;32m/usr/local/lib/python3.6/dist-packages/tensorflow/python/eager/function.py\u001b[0m in \u001b[0;36mcall\u001b[0;34m(self, ctx, args, cancellation_manager)\u001b[0m\n\u001b[1;32m    594\u001b[0m               \u001b[0minputs\u001b[0m\u001b[0;34m=\u001b[0m\u001b[0margs\u001b[0m\u001b[0;34m,\u001b[0m\u001b[0;34m\u001b[0m\u001b[0;34m\u001b[0m\u001b[0m\n\u001b[1;32m    595\u001b[0m               \u001b[0mattrs\u001b[0m\u001b[0;34m=\u001b[0m\u001b[0mattrs\u001b[0m\u001b[0;34m,\u001b[0m\u001b[0;34m\u001b[0m\u001b[0;34m\u001b[0m\u001b[0m\n\u001b[0;32m--> 596\u001b[0;31m               ctx=ctx)\n\u001b[0m\u001b[1;32m    597\u001b[0m         \u001b[0;32melse\u001b[0m\u001b[0;34m:\u001b[0m\u001b[0;34m\u001b[0m\u001b[0;34m\u001b[0m\u001b[0m\n\u001b[1;32m    598\u001b[0m           outputs = execute.execute_with_cancellation(\n",
      "\u001b[0;32m/usr/local/lib/python3.6/dist-packages/tensorflow/python/eager/execute.py\u001b[0m in \u001b[0;36mquick_execute\u001b[0;34m(op_name, num_outputs, inputs, attrs, ctx, name)\u001b[0m\n\u001b[1;32m     58\u001b[0m     \u001b[0mctx\u001b[0m\u001b[0;34m.\u001b[0m\u001b[0mensure_initialized\u001b[0m\u001b[0;34m(\u001b[0m\u001b[0;34m)\u001b[0m\u001b[0;34m\u001b[0m\u001b[0;34m\u001b[0m\u001b[0m\n\u001b[1;32m     59\u001b[0m     tensors = pywrap_tfe.TFE_Py_Execute(ctx._handle, device_name, op_name,\n\u001b[0;32m---> 60\u001b[0;31m                                         inputs, attrs, num_outputs)\n\u001b[0m\u001b[1;32m     61\u001b[0m   \u001b[0;32mexcept\u001b[0m \u001b[0mcore\u001b[0m\u001b[0;34m.\u001b[0m\u001b[0m_NotOkStatusException\u001b[0m \u001b[0;32mas\u001b[0m \u001b[0me\u001b[0m\u001b[0;34m:\u001b[0m\u001b[0;34m\u001b[0m\u001b[0;34m\u001b[0m\u001b[0m\n\u001b[1;32m     62\u001b[0m     \u001b[0;32mif\u001b[0m \u001b[0mname\u001b[0m \u001b[0;32mis\u001b[0m \u001b[0;32mnot\u001b[0m \u001b[0;32mNone\u001b[0m\u001b[0;34m:\u001b[0m\u001b[0;34m\u001b[0m\u001b[0;34m\u001b[0m\u001b[0m\n",
      "\u001b[0;31mKeyboardInterrupt\u001b[0m: "
=======
      "Found 4436 files belonging to 4 classes.\n",
      "Using 3549 files for training.\n",
      "Found 4436 files belonging to 4 classes.\n",
      "Using 887 files for validation.\n",
      "['.ipynb_checkpoints', 'few_var', 'healthy', 'varroa']\n"
>>>>>>> ac1d302a7ddc9757035bebbd80f838394c8bbae9
     ]
    }
   ],
   "source": [
<<<<<<< HEAD
    "epochs=50\n",
    "history = model.fit(\n",
    "  train_generator,\n",
    "  validation_data=validation_generator,\n",
    "  epochs=epochs\n",
    ")\n",
    "# history = model.fit(\n",
    "#         train_generator,\n",
    "        \n",
    "#         validation_data=validation_generator,\n",
    "#    epochs=50,\n",
    "# )"
   ]
  },
  {
   "cell_type": "code",
   "execution_count": 23,
   "metadata": {},
   "outputs": [
    {
     "data": {
      "image/png": "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\n",
      "text/plain": [
       "<Figure size 576x576 with 2 Axes>"
      ]
     },
     "metadata": {
      "needs_background": "light"
     },
     "output_type": "display_data"
    }
   ],
   "source": [
    "acc = history.history['accuracy']\n",
    "val_acc = history.history['val_accuracy']\n",
    "\n",
    "loss = history.history['loss']\n",
    "val_loss = history.history['val_loss']\n",
    "\n",
    "epochs_range = range(epochs)\n",
    "\n",
    "plt.figure(figsize=(8, 8))\n",
    "plt.subplot(1, 2, 1)\n",
    "plt.plot(epochs_range, acc, label='Training Accuracy')\n",
    "plt.plot(epochs_range, val_acc, label='Testing Accuracy')\n",
    "plt.legend(loc='lower right')\n",
    "plt.title('Training and Testing Accuracy')\n",
    "\n",
    "plt.subplot(1, 2, 2)\n",
    "plt.plot(epochs_range, loss, label='Training Loss')\n",
    "plt.plot(epochs_range, val_loss, label='Testing Loss')\n",
    "plt.legend(loc='upper right')\n",
    "plt.title('Training and Testing Loss')\n",
    "plt.show()"
   ]
  },
  {
   "cell_type": "code",
   "execution_count": null,
   "metadata": {},
   "outputs": [],
   "source": [
    "#Bees Infected with Varroa Mites\n",
    "varroa_infected_1 = \"../datasets/annotated_honeybee/predictions/varroa_infected_1.png\"\n",
    "varroa_infected_2 = \"../datasets/annotated_honeybee/predictions/varroa_infected_2.png\"\n",
    "varroa_infected_3 = \"../datasets/annotated_honeybee/predictions/varroa_infected_3.png\"\n",
    "varroa_infected_4 = \"../datasets/varroa_test_set/has_varroa/001_001.jpeg\"\n",
    "varroa_infected_5 = \"../datasets/varroa_test_set/has_varroa/001_002.jpg\"\n",
    "varroa_infected_6 = \"../datasets/varroa_test_set/has_varroa/001_003.png\"\n",
    "\n",
    "\n",
    "#Healthy Bees\n",
    "healthy_bee_from_data  = \"../datasets/annotated_honeybee/bee_imgs2/healthy/001_054.png\"\n",
    "healthy_bee_side = \"../datasets/annotated_honeybee/predictions/healthy_bee_side_profile.png\"\n",
    "healthy_bee_top = \"../datasets/annotated_honeybee/predictions/healthy_bee_top_view.png\"\n"
   ]
  },
  {
   "cell_type": "code",
   "execution_count": null,
   "metadata": {},
   "outputs": [],
   "source": [
    "img = keras.preprocessing.image.load_img(\n",
    "    varroa_infected_1, target_size=(img_height, img_width)\n",
    ")\n",
    "\n",
    "img_array = keras.preprocessing.image.img_to_array(img)\n",
    "img_array = tf.expand_dims(img_array, 0) # Create a batch\n",
    "\n",
    "predictions = model.predict(img_array)\n",
    "score = tf.nn.softmax(predictions[0])\n",
    "\n",
    "print(\n",
    "     \"{} with a {:.2f} percent confidence.\"\n",
    "    .format(class_names[np.argmax(score)], 100 * np.max(score))\n",
    ")\n",
    "\n",
    "\n",
    "img = keras.preprocessing.image.load_img(\n",
    "    varroa_infected_2, target_size=(img_height, img_width)\n",
    ")\n",
    "\n",
    "img_array = keras.preprocessing.image.img_to_array(img)\n",
    "img_array = tf.expand_dims(img_array, 0) # Create a batch\n",
    "\n",
    "predictions = model.predict(img_array)\n",
    "score = tf.nn.softmax(predictions[0])\n",
    "\n",
    "print(\n",
    "     \"{} with a {:.2f} percent confidence.\"\n",
    "    .format(class_names[np.argmax(score)], 100 * np.max(score))\n",
    ")\n",
    "\n",
    "\n",
    "img = keras.preprocessing.image.load_img(\n",
    "    varroa_infected_3, target_size=(img_height, img_width)\n",
    ")\n",
    "\n",
    "img_array = keras.preprocessing.image.img_to_array(img)\n",
    "img_array = tf.expand_dims(img_array, 0) # Create a batch\n",
    "\n",
    "predictions = model.predict(img_array)\n",
    "score = tf.nn.softmax(predictions[0])\n",
    "\n",
    "print(\n",
    "     \"{} with a {:.2f} percent confidence.\"\n",
    "    .format(class_names[np.argmax(score)], 100 * np.max(score))\n",
    ")\n",
    "\n",
    "img = keras.preprocessing.image.load_img(\n",
    "    varroa_infected_4, target_size=(img_height, img_width)\n",
    ")\n",
    "\n",
    "img_array = keras.preprocessing.image.img_to_array(img)\n",
    "img_array = tf.expand_dims(img_array, 0) # Create a batch\n",
    "\n",
    "predictions = model.predict(img_array)\n",
    "score = tf.nn.softmax(predictions[0])\n",
    "\n",
    "print(\n",
    "     \"{} with a {:.2f} percent confidence.\"\n",
    "    .format(class_names[np.argmax(score)], 100 * np.max(score))\n",
    ")\n",
    "\n",
    "img = keras.preprocessing.image.load_img(\n",
    "    varroa_infected_5, target_size=(img_height, img_width)\n",
    ")\n",
    "\n",
    "img_array = keras.preprocessing.image.img_to_array(img)\n",
    "img_array = tf.expand_dims(img_array, 0) # Create a batch\n",
    "\n",
    "predictions = model.predict(img_array)\n",
    "score = tf.nn.softmax(predictions[0])\n",
    "\n",
    "print(\n",
    "     \"{} with a {:.2f} percent confidence.\"\n",
    "    .format(class_names[np.argmax(score)], 100 * np.max(score))\n",
    ")\n",
    "\n",
    "img = keras.preprocessing.image.load_img(\n",
    "    varroa_infected_6, target_size=(img_height, img_width)\n",
    ")\n",
    "\n",
    "img_array = keras.preprocessing.image.img_to_array(img)\n",
    "img_array = tf.expand_dims(img_array, 0) # Create a batch\n",
    "\n",
    "predictions = model.predict(img_array)\n",
    "score = tf.nn.softmax(predictions[0])\n",
    "\n",
    "print(\n",
    "     \"{} with a {:.2f} percent confidence.\"\n",
    "    .format(class_names[np.argmax(score)], 100 * np.max(score))\n",
    ")\n",
    "\n",
    "\n",
    "print('=======================================================')\n",
    "img = keras.preprocessing.image.load_img(\n",
    "    healthy_bee_from_data, target_size=(img_height, img_width)\n",
    ")\n",
    "\n",
    "img_array = keras.preprocessing.image.img_to_array(img)\n",
    "img_array = tf.expand_dims(img_array, 0) # Create a batch\n",
    "\n",
    "predictions = model.predict(img_array)\n",
    "score = tf.nn.softmax(predictions[0])\n",
    "\n",
    "print(\n",
    "     \"{} with a {:.2f} percent confidence.\"\n",
    "    .format(class_names[np.argmax(score)], 100 * np.max(score))\n",
    ")\n",
    "img = keras.preprocessing.image.load_img(\n",
    "    healthy_bee_top, target_size=(img_height, img_width)\n",
    ")\n",
    "\n",
    "img_array = keras.preprocessing.image.img_to_array(img)\n",
    "img_array = tf.expand_dims(img_array, 0) # Create a batch\n",
    "\n",
    "predictions = model.predict(img_array)\n",
    "score = tf.nn.softmax(predictions[0])\n",
    "\n",
    "print(\n",
    "     \"{} with a {:.2f} percent confidence.\"\n",
    "    .format(class_names[np.argmax(score)], 100 * np.max(score))\n",
    ")\n",
    "\n",
    "\n",
    "img = keras.preprocessing.image.load_img(\n",
    "    healthy_bee_side, target_size=(img_height, img_width)\n",
    ")\n",
    "\n",
    "img_array = keras.preprocessing.image.img_to_array(img)\n",
    "img_array = tf.expand_dims(img_array, 0) # Create a batch\n",
    "\n",
    "predictions = model.predict(img_array)\n",
    "score = tf.nn.softmax(predictions[0])\n",
    "\n",
    "print(\n",
    "    \"{} with a {:.2f} percent confidence.\"\n",
    "    .format(class_names[np.argmax(score)], 100 * np.max(score))\n",
    ")"
=======
    "batch_size = 32\n",
    "img_height = 180\n",
    "img_width = 180\n",
    "\n",
    "train_ds = tf.keras.preprocessing.image_dataset_from_directory(\n",
    "    data_dir,\n",
    "    validation_split=0.2,\n",
    "    subset=\"training\",\n",
    "    seed=123,\n",
    "    image_size=(img_height, img_width),\n",
    "    batch_size=batch_size\n",
    ")\n",
    "\n",
    "val_ds = tf.keras.preprocessing.image_dataset_from_directory(\n",
    "    data_dir,\n",
    "    validation_split=0.2,\n",
    "    subset=\"validation\",\n",
    "    seed=123,\n",
    "    image_size=(img_height, img_width),\n",
    "    batch_size=batch_size\n",
    ")\n",
    "\n",
    "class_names = train_ds.class_names\n",
    "#Prints how many classes are in the new dataset\n",
    "print(class_names)\n",
    "\n"
>>>>>>> ac1d302a7ddc9757035bebbd80f838394c8bbae9
   ]
  },
  {
   "cell_type": "code",
   "execution_count": null,
   "metadata": {},
   "outputs": [],
   "source": []
<<<<<<< HEAD
  },
  {
   "cell_type": "code",
   "execution_count": null,
   "metadata": {},
   "outputs": [],
   "source": []
  },
  {
   "cell_type": "code",
   "execution_count": null,
   "metadata": {},
   "outputs": [],
   "source": []
=======
>>>>>>> ac1d302a7ddc9757035bebbd80f838394c8bbae9
  }
 ],
 "metadata": {
  "kernelspec": {
   "display_name": "Python 3",
   "language": "python",
   "name": "python3"
  },
  "language_info": {
   "codemirror_mode": {
    "name": "ipython",
    "version": 3
   },
   "file_extension": ".py",
   "mimetype": "text/x-python",
   "name": "python",
   "nbconvert_exporter": "python",
   "pygments_lexer": "ipython3",
   "version": "3.6.9"
  }
 },
 "nbformat": 4,
 "nbformat_minor": 5
}

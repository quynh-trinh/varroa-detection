{
 "cells": [
  {
   "cell_type": "code",
   "execution_count": 1,
   "metadata": {},
   "outputs": [],
   "source": [
    "import os"
   ]
  },
  {
   "cell_type": "code",
   "execution_count": 2,
   "metadata": {},
   "outputs": [],
   "source": [
    "import warnings\n",
    "warnings.filterwarnings('always')\n",
    "warnings.filterwarnings('ignore')\n",
    "\n",
    "# data visualization and manipulation\n",
    "import numpy as np\n",
    "import pandas as pd\n",
    "import matplotlib\n",
    "import matplotlib.pyplot as plt\n",
    "from matplotlib import style\n",
    "import seaborn as sns\n",
    "import random as rn\n",
    "import cv2\n",
    "import imageio\n",
    "\n",
    "# configures matplotlib to inline and will display graphs below the corresponding cell\n",
    "%matplotlib inline\n",
    "style.use('fivethirtyeight')\n",
    "sns.set(style='whitegrid', color_codes=True)\n",
    "\n",
    "#model selection\n",
    "from sklearn.model_selection import train_test_split\n",
    "from sklearn.model_selection import KFold\n",
    "from sklearn.metrics import accuracy_score,precision_score,recall_score,confusion_matrix,roc_curve,roc_auc_score\n",
    "from sklearn.model_selection import GridSearchCV\n",
    "from sklearn.preprocessing import LabelEncoder\n",
    "\n",
    "#preprocess\n",
    "from keras.preprocessing.image import ImageDataGenerator\n",
    "\n",
    "#libraries\n",
    "import tensorflow as tf\n",
    "from keras import backend as K\n",
    "from keras import models\n",
    "from keras.models import Sequential\n",
    "from keras.layers import Dense\n",
    "from keras.optimizers import Adam,SGD,Adagrad,Adadelta,RMSprop\n",
    "from keras.utils import to_categorical\n",
    "\n",
    "#for cnn\n",
    "from keras.layers import Dense, Dropout, Flatten, Activation\n",
    "from keras.layers import Conv2D, MaxPooling2D, BatchNormalization\n",
    "\n",
    "#manipulation of zipped images and getting numpy arrays of pixel values of images\n",
    "\n",
    "# from tqdm import tqdm\n",
    "# from random import shuffle\n",
    "# from zipfile import ZipFile\n",
    "# from PIL import Image\n",
    "\n",
    "from image_handler import ImageHandler"
   ]
  },
  {
   "cell_type": "code",
   "execution_count": 3,
   "metadata": {},
   "outputs": [],
   "source": [
    "from skimage.transform import rescale, resize, rotate\n",
    "from skimage.color import rgb2gray\n",
    "from sklearn.metrics import confusion_matrix, auc, accuracy_score\n",
    "from sklearn.model_selection import train_test_split\n",
    "\n",
    "from keras.utils import np_utils\n",
    "from keras import callbacks\n",
    "from keras.models import load_model"
   ]
  },
  {
   "cell_type": "code",
   "execution_count": 4,
   "metadata": {},
   "outputs": [],
   "source": [
    "X = []\n",
    "Z = []\n",
    "IDEAL_WIDTH = 50 # 54\n",
    "IDEAL_HEIGHT = 50\n",
    "IMG_DIR = '../datasets/annotated_honeybee/bee_imgs/'"
   ]
  },
  {
   "cell_type": "code",
   "execution_count": 5,
   "metadata": {},
   "outputs": [],
   "source": [
    "data = pd.read_csv('../datasets/annotated_honeybee/bee_data.csv')"
   ]
  },
  {
   "cell_type": "code",
   "execution_count": 6,
   "metadata": {},
   "outputs": [],
   "source": [
    "health_counts = data[\"health\"].value_counts()\n",
    "target_categories = [name for name in health_counts.index if \"varr\" in name.lower() or \"health\" in name.lower()]"
   ]
  },
  {
   "cell_type": "code",
   "execution_count": 7,
   "metadata": {},
   "outputs": [
    {
     "data": {
      "text/html": [
       "<div>\n",
       "<style scoped>\n",
       "    .dataframe tbody tr th:only-of-type {\n",
       "        vertical-align: middle;\n",
       "    }\n",
       "\n",
       "    .dataframe tbody tr th {\n",
       "        vertical-align: top;\n",
       "    }\n",
       "\n",
       "    .dataframe thead th {\n",
       "        text-align: right;\n",
       "    }\n",
       "</style>\n",
       "<table border=\"1\" class=\"dataframe\">\n",
       "  <thead>\n",
       "    <tr style=\"text-align: right;\">\n",
       "      <th></th>\n",
       "      <th>file</th>\n",
       "      <th>date</th>\n",
       "      <th>time</th>\n",
       "      <th>location</th>\n",
       "      <th>zip code</th>\n",
       "      <th>subspecies</th>\n",
       "      <th>health</th>\n",
       "      <th>pollen_carrying</th>\n",
       "      <th>caste</th>\n",
       "    </tr>\n",
       "  </thead>\n",
       "  <tbody>\n",
       "    <tr>\n",
       "      <th>74</th>\n",
       "      <td>017_029.png</td>\n",
       "      <td>8/6/18</td>\n",
       "      <td>13:21</td>\n",
       "      <td>Saratoga, CA, USA</td>\n",
       "      <td>95070</td>\n",
       "      <td>Italian honey bee</td>\n",
       "      <td>healthy</td>\n",
       "      <td>False</td>\n",
       "      <td>worker</td>\n",
       "    </tr>\n",
       "    <tr>\n",
       "      <th>75</th>\n",
       "      <td>017_015.png</td>\n",
       "      <td>8/6/18</td>\n",
       "      <td>13:21</td>\n",
       "      <td>Saratoga, CA, USA</td>\n",
       "      <td>95070</td>\n",
       "      <td>Italian honey bee</td>\n",
       "      <td>healthy</td>\n",
       "      <td>False</td>\n",
       "      <td>worker</td>\n",
       "    </tr>\n",
       "    <tr>\n",
       "      <th>76</th>\n",
       "      <td>017_001.png</td>\n",
       "      <td>8/6/18</td>\n",
       "      <td>13:21</td>\n",
       "      <td>Saratoga, CA, USA</td>\n",
       "      <td>95070</td>\n",
       "      <td>Italian honey bee</td>\n",
       "      <td>healthy</td>\n",
       "      <td>False</td>\n",
       "      <td>worker</td>\n",
       "    </tr>\n",
       "    <tr>\n",
       "      <th>77</th>\n",
       "      <td>017_000.png</td>\n",
       "      <td>8/6/18</td>\n",
       "      <td>13:21</td>\n",
       "      <td>Saratoga, CA, USA</td>\n",
       "      <td>95070</td>\n",
       "      <td>Italian honey bee</td>\n",
       "      <td>healthy</td>\n",
       "      <td>False</td>\n",
       "      <td>worker</td>\n",
       "    </tr>\n",
       "    <tr>\n",
       "      <th>78</th>\n",
       "      <td>017_014.png</td>\n",
       "      <td>8/6/18</td>\n",
       "      <td>13:21</td>\n",
       "      <td>Saratoga, CA, USA</td>\n",
       "      <td>95070</td>\n",
       "      <td>Italian honey bee</td>\n",
       "      <td>healthy</td>\n",
       "      <td>False</td>\n",
       "      <td>worker</td>\n",
       "    </tr>\n",
       "  </tbody>\n",
       "</table>\n",
       "</div>"
      ],
      "text/plain": [
       "           file    date   time           location  zip code  \\\n",
       "74  017_029.png  8/6/18  13:21  Saratoga, CA, USA     95070   \n",
       "75  017_015.png  8/6/18  13:21  Saratoga, CA, USA     95070   \n",
       "76  017_001.png  8/6/18  13:21  Saratoga, CA, USA     95070   \n",
       "77  017_000.png  8/6/18  13:21  Saratoga, CA, USA     95070   \n",
       "78  017_014.png  8/6/18  13:21  Saratoga, CA, USA     95070   \n",
       "\n",
       "           subspecies   health  pollen_carrying   caste  \n",
       "74  Italian honey bee  healthy            False  worker  \n",
       "75  Italian honey bee  healthy            False  worker  \n",
       "76  Italian honey bee  healthy            False  worker  \n",
       "77  Italian honey bee  healthy            False  worker  \n",
       "78  Italian honey bee  healthy            False  worker  "
      ]
     },
     "execution_count": 7,
     "metadata": {},
     "output_type": "execute_result"
    }
   ],
   "source": [
    "data = data[[status in target_categories for status in data[\"health\"]]]\n",
    "data.head()"
   ]
  },
  {
   "cell_type": "code",
   "execution_count": 8,
   "metadata": {},
   "outputs": [
    {
     "data": {
      "text/plain": [
       "74    0\n",
       "75    0\n",
       "76    0\n",
       "77    0\n",
       "78    0\n",
       "Name: has_varroa, dtype: int64"
      ]
     },
     "execution_count": 8,
     "metadata": {},
     "output_type": "execute_result"
    }
   ],
   "source": [
    "data[\"has_varroa\"] = (data[\"health\"] != \"healthy\").astype(int)\n",
    "data[\"has_varroa\"].head() # 0=healthy; 1=has_varroa"
   ]
  },
  {
   "cell_type": "code",
   "execution_count": 9,
   "metadata": {},
   "outputs": [
    {
     "data": {
      "text/plain": [
       "0    0.763021\n",
       "1    0.236979\n",
       "Name: has_varroa, dtype: float64"
      ]
     },
     "execution_count": 9,
     "metadata": {},
     "output_type": "execute_result"
    }
   ],
   "source": [
    "data[\"has_varroa\"].value_counts(normalize = True)"
   ]
  },
  {
   "cell_type": "code",
   "execution_count": 10,
   "metadata": {},
   "outputs": [
    {
     "data": {
      "text/html": [
       "<div>\n",
       "<style scoped>\n",
       "    .dataframe tbody tr th:only-of-type {\n",
       "        vertical-align: middle;\n",
       "    }\n",
       "\n",
       "    .dataframe tbody tr th {\n",
       "        vertical-align: top;\n",
       "    }\n",
       "\n",
       "    .dataframe thead th {\n",
       "        text-align: right;\n",
       "    }\n",
       "</style>\n",
       "<table border=\"1\" class=\"dataframe\">\n",
       "  <thead>\n",
       "    <tr style=\"text-align: right;\">\n",
       "      <th></th>\n",
       "      <th>file</th>\n",
       "      <th>has_varroa</th>\n",
       "    </tr>\n",
       "  </thead>\n",
       "  <tbody>\n",
       "    <tr>\n",
       "      <th>74</th>\n",
       "      <td>017_029.png</td>\n",
       "      <td>0</td>\n",
       "    </tr>\n",
       "    <tr>\n",
       "      <th>75</th>\n",
       "      <td>017_015.png</td>\n",
       "      <td>0</td>\n",
       "    </tr>\n",
       "    <tr>\n",
       "      <th>76</th>\n",
       "      <td>017_001.png</td>\n",
       "      <td>0</td>\n",
       "    </tr>\n",
       "    <tr>\n",
       "      <th>77</th>\n",
       "      <td>017_000.png</td>\n",
       "      <td>0</td>\n",
       "    </tr>\n",
       "    <tr>\n",
       "      <th>78</th>\n",
       "      <td>017_014.png</td>\n",
       "      <td>0</td>\n",
       "    </tr>\n",
       "  </tbody>\n",
       "</table>\n",
       "</div>"
      ],
      "text/plain": [
       "           file  has_varroa\n",
       "74  017_029.png           0\n",
       "75  017_015.png           0\n",
       "76  017_001.png           0\n",
       "77  017_000.png           0\n",
       "78  017_014.png           0"
      ]
     },
     "execution_count": 10,
     "metadata": {},
     "output_type": "execute_result"
    }
   ],
   "source": [
    "data = data[[\"file\",\"has_varroa\"]]\n",
    "data.head()"
   ]
  },
  {
   "cell_type": "code",
   "execution_count": 11,
   "metadata": {},
   "outputs": [
    {
     "data": {
      "text/plain": [
       "(4435, 2)"
      ]
     },
     "execution_count": 11,
     "metadata": {},
     "output_type": "execute_result"
    }
   ],
   "source": [
    "data.shape"
   ]
  },
  {
   "cell_type": "code",
   "execution_count": 12,
   "metadata": {},
   "outputs": [
    {
     "name": "stdout",
     "output_type": "stream",
     "text": [
      "017_029.png 0\n"
     ]
    }
   ],
   "source": [
    "type(data)\n",
    "\n",
    "for index, row in data.iterrows():\n",
    "    print(row['file'], row['has_varroa'])\n",
    "    break"
   ]
  },
  {
   "cell_type": "code",
   "execution_count": 13,
   "metadata": {},
   "outputs": [],
   "source": [
    "def get_image_data(dir, files):\n",
    "    return np.asanyarray([imageio.imread(\"{}{}\".format(dir, file)) for file in files])"
   ]
  },
  {
   "cell_type": "code",
   "execution_count": 14,
   "metadata": {},
   "outputs": [],
   "source": [
    "# raw_images = get_image_data(IMG_DIR, data[\"file\"].values)"
   ]
  },
  {
   "cell_type": "code",
   "execution_count": 15,
   "metadata": {},
   "outputs": [],
   "source": [
    "def show_image(image, ax = plt, title = None, show_size = False):\n",
    "    ax.imshow(image)\n",
    "    if title:\n",
    "        ax.set_title(title)\n",
    "    if not show_size:\n",
    "        ax.tick_params(bottom = False, left = False, labelbottom = False, labelleft = False)"
   ]
  },
  {
   "cell_type": "code",
   "execution_count": 16,
   "metadata": {},
   "outputs": [],
   "source": [
    "def show_images(files, titles = None, show_size = False):\n",
    "    cols = 4\n",
    "    f, ax = plt.subplots(nrows=int(np.ceil(len(files)/cols)),ncols=cols, figsize=(14,5))\n",
    "    ax = ax.flatten()\n",
    "    for i, file in enumerate(files):\n",
    "        if titles:\n",
    "            show_image(file, ax = ax[i], title = titles[i], show_size = show_size)\n",
    "        else:\n",
    "            show_image(file, ax = ax[i], title = None, show_size = show_size)\n",
    "    plt.show()"
   ]
  },
  {
   "cell_type": "code",
   "execution_count": 17,
   "metadata": {},
   "outputs": [],
   "source": [
    "# show_image(raw_images[0])\n",
    "# show_images(raw_images[::1200], list(data[\"has_varroa\"].map({1: \"has_varroa\", 0: \"healthy\"})[::1200]))"
   ]
  },
  {
   "cell_type": "code",
   "execution_count": 18,
   "metadata": {},
   "outputs": [],
   "source": [
    "# resizing = (IDEAL_WIDTH, IDEAL_HEIGHT, 3)\n",
    "# resized_images = ImageHandler(raw_images).resize(resizing)"
   ]
  },
  {
   "cell_type": "code",
   "execution_count": 19,
   "metadata": {},
   "outputs": [],
   "source": [
    "# show_images(resized_images.images_for_display[::1200], list(data[\"has_varroa\"].map({1: \"has_varroa\", 0: \"healthy\"})[::1200]))"
   ]
  },
  {
   "cell_type": "code",
   "execution_count": 20,
   "metadata": {},
   "outputs": [],
   "source": [
    "def make_train_data(data, DIR):\n",
    "    for index, row in data.iterrows():\n",
    "        path = os.path.join(DIR, row['file'])\n",
    "        label = str(row['has_varroa'])\n",
    "        img = cv2.imread(path, cv2.IMREAD_COLOR)\n",
    "        img = cv2.resize(img, (IDEAL_WIDTH, IDEAL_HEIGHT))\n",
    "        X.append(np.array(img))\n",
    "        Z.append(label)\n",
    "        \n",
    "#     for img in tqdm(os.listdir(DIR)):\n",
    "#         label = assign_label(img, bee_type)\n",
    "#         path = os.path.join(DIR, img)\n",
    "#         ext = img[-4:]\n",
    "#         if (ext != '.jpg'):\n",
    "#             continue\n",
    "#         img = cv2.imread(path, cv2.IMREAD_COLOR)\n",
    "#         img = cv2.resize(img, (IMG_SIZE, IMG_SIZE))\n",
    "        \n",
    "#         X.append(np.array(img))\n",
    "#         Z.append(str(label))"
   ]
  },
  {
   "cell_type": "code",
   "execution_count": 21,
   "metadata": {},
   "outputs": [
    {
     "name": "stdout",
     "output_type": "stream",
     "text": [
      "4435\n"
     ]
    }
   ],
   "source": [
    "make_train_data(data, IMG_DIR)\n",
    "print(len(X))"
   ]
  },
  {
   "cell_type": "code",
   "execution_count": 22,
   "metadata": {},
   "outputs": [],
   "source": [
    "# Gaussian Blur\n",
    "# def blur():\n",
    "#     for i in range(1, len(X)):\n",
    "#         X[i] = cv2.GaussianBlur(X[i], (5, 5), 0) \n",
    "\n",
    "# Preprocessing\n",
    "# for i in range(len(X)):\n",
    "#     # Gaussian Blur\n",
    "#     im = X[i]\n",
    "#     im = cv2.GaussianBlur(im, (5, 5), 0)\n",
    "#     X[i] = im\n",
    "    \n",
    "# Not using the preprocessing below because they don't mark the bees very well\n",
    "#     # Image Segmentation\n",
    "#     gray = cv2.cvtColor(im, cv2.COLOR_RGB2GRAY)\n",
    "#     ret, thresh = cv2.threshold(gray, 0, 255, cv2.THRESH_BINARY_INV + cv2.THRESH_OTSU)\n",
    "    \n",
    "#     # Further noise removal\n",
    "#     kernel = np.ones((3, 3), np.uint8)\n",
    "#     opening = cv2.morphologyEx(thresh, cv2.MORPH_OPEN, kernel, iterations=2)\n",
    "#     # sure background area\n",
    "#     sure_bg = cv2.dilate(opening, kernel, iterations=3)\n",
    "#     # Finding sure foreground area\n",
    "#     dist_transform = cv2.distanceTransform(opening, cv2.DIST_L2, 5)\n",
    "#     ret, sure_fg = cv2.threshold(dist_transform, 0.7 * dist_transform.max(), 255, 0)\n",
    "#     # Finding unknown region\n",
    "#     sure_fg = np.uint8(sure_fg)\n",
    "#     unknown = cv2.subtract(sure_bg, sure_fg)\n",
    "\n",
    "#     # Marker labelling\n",
    "#     ret, markers = cv2.connectedComponents(sure_fg)\n",
    "#     # Add one to all labels so that sure background is not 0, but 1\n",
    "#     markers = markers + 1\n",
    "#     # Now, mark the region of unknown with zero\n",
    "#     markers[unknown == 255] = 0\n",
    "    \n",
    "#     markers = cv2.watershed(im, markers)\n",
    "#     im[markers == -1] = [255, 0, 0]\n",
    "#     markers = cv2.watershed(X[i], markers)\n",
    "#     X[i] = im"
   ]
  },
  {
   "cell_type": "code",
   "execution_count": 23,
   "metadata": {},
   "outputs": [
    {
     "data": {
      "image/png": "[encoded data removed]",
      "text/plain": [
       "<Figure size 1080x1080 with 10 Axes>"
      ]
     },
     "metadata": {},
     "output_type": "display_data"
    }
   ],
   "source": [
    "#visualize 10 random images with blurring preprocessing\n",
    "fig,ax=plt.subplots(5,2)\n",
    "fig.set_size_inches(15,15)\n",
    "for i in range(5):\n",
    "    for j in range(2):\n",
    "        l=rn.randint(0,len(Z))\n",
    "        ax[i, j].imshow(X[l])\n",
    "        label = 'has_varroa' if Z[l] == '1' else 'no_varroa'\n",
    "        ax[i,j].set_title('Condition: '+ label)\n",
    "plt.tight_layout()"
   ]
  },
  {
   "cell_type": "code",
   "execution_count": 24,
   "metadata": {},
   "outputs": [],
   "source": [
    "# label encoding\n",
    "le=LabelEncoder()\n",
    "Y=le.fit_transform(Z)\n",
    "Y=to_categorical(Y,2)\n",
    "X=np.array(X)\n",
    "X=X/255"
   ]
  },
  {
   "cell_type": "code",
   "execution_count": 25,
   "metadata": {},
   "outputs": [],
   "source": [
    "#splitting into training and validation sets\n",
    "x_train, x_test, y_train, y_test = train_test_split(X, Y, test_size = 0.25, random_state = 42)"
   ]
  },
  {
   "cell_type": "code",
   "execution_count": 26,
   "metadata": {},
   "outputs": [],
   "source": [
    "#inputting the random seeds\n",
    "np.random.seed(42)\n",
    "rn.seed(42)\n",
    "tf.random.set_seed(42)"
   ]
  },
  {
   "cell_type": "code",
   "execution_count": 27,
   "metadata": {},
   "outputs": [],
   "source": [
    "# params = {\n",
    "#     \"conv__filters_1\" : 32,\n",
    "#     \"conv__filters_2\" : 48,\n",
    "#     \"conv__filters_3\" : 64,\n",
    "#     \"density_units_1\" : 256,\n",
    "#     \"density_units_2\" : 64,\n",
    "#     \"batch_size\"      : 64,\n",
    "#     \"epochs\"          : 50\n",
    "# }\n",
    "\n",
    "# kernel_size = 3\n",
    "# dropout = .5\n",
    "# activation_func = \"relu\"\n",
    "# input_shape = (IDEAL_WIDTH,IDEAL_HEIGHT,3)\n",
    "\n",
    "# conv__filters_1 = params.get('conv__filters_1') or 32\n",
    "# conv__filters_2 = params.get('conv__filters_2') or 16\n",
    "# conv__filters_3 = params.get('conv__filters_3') or 32\n",
    "# density_units_1 = params.get('density_units_1') or 32\n",
    "# density_units_2 = params.get('density_units_2') or 32\n",
    "# epochs          = params.get('epochs') or 8"
   ]
  },
  {
   "cell_type": "code",
   "execution_count": 29,
   "metadata": {},
   "outputs": [
    {
     "ename": "ResourceExhaustedError",
     "evalue": "OOM when allocating tensor with shape[180000,32] and type float on /job:localhost/replica:0/task:0/device:GPU:0 by allocator GPU_0_bfc [Op:Add]",
     "output_type": "error",
     "traceback": [
      "\u001b[0;31m---------------------------------------------------------------------------\u001b[0m",
      "\u001b[0;31mResourceExhaustedError\u001b[0m                    Traceback (most recent call last)",
      "\u001b[0;32m<ipython-input-29-f1c7a108a8b9>\u001b[0m in \u001b[0;36m<module>\u001b[0;34m\u001b[0m\n\u001b[1;32m     15\u001b[0m \u001b[0;34m\u001b[0m\u001b[0m\n\u001b[1;32m     16\u001b[0m \u001b[0mmodel\u001b[0m\u001b[0;34m.\u001b[0m\u001b[0madd\u001b[0m\u001b[0;34m(\u001b[0m\u001b[0mFlatten\u001b[0m\u001b[0;34m(\u001b[0m\u001b[0;34m)\u001b[0m\u001b[0;34m)\u001b[0m\u001b[0;34m\u001b[0m\u001b[0;34m\u001b[0m\u001b[0m\n\u001b[0;32m---> 17\u001b[0;31m \u001b[0mmodel\u001b[0m\u001b[0;34m.\u001b[0m\u001b[0madd\u001b[0m\u001b[0;34m(\u001b[0m\u001b[0mDense\u001b[0m\u001b[0;34m(\u001b[0m\u001b[0;36m32\u001b[0m\u001b[0;34m)\u001b[0m\u001b[0;34m)\u001b[0m\u001b[0;34m\u001b[0m\u001b[0;34m\u001b[0m\u001b[0m\n\u001b[0m\u001b[1;32m     18\u001b[0m \u001b[0mmodel\u001b[0m\u001b[0;34m.\u001b[0m\u001b[0madd\u001b[0m\u001b[0;34m(\u001b[0m\u001b[0mActivation\u001b[0m\u001b[0;34m(\u001b[0m\u001b[0;34m'relu'\u001b[0m\u001b[0;34m)\u001b[0m\u001b[0;34m)\u001b[0m\u001b[0;34m\u001b[0m\u001b[0;34m\u001b[0m\u001b[0m\n\u001b[1;32m     19\u001b[0m \u001b[0mmodel\u001b[0m\u001b[0;34m.\u001b[0m\u001b[0madd\u001b[0m\u001b[0;34m(\u001b[0m\u001b[0mDense\u001b[0m\u001b[0;34m(\u001b[0m\u001b[0;36m2\u001b[0m\u001b[0;34m,\u001b[0m \u001b[0mactivation\u001b[0m \u001b[0;34m=\u001b[0m \u001b[0;34m\"softmax\"\u001b[0m\u001b[0;34m)\u001b[0m\u001b[0;34m)\u001b[0m\u001b[0;34m\u001b[0m\u001b[0;34m\u001b[0m\u001b[0m\n",
      "\u001b[0;32m/usr/local/lib/python3.6/dist-packages/tensorflow/python/training/tracking/base.py\u001b[0m in \u001b[0;36m_method_wrapper\u001b[0;34m(self, *args, **kwargs)\u001b[0m\n\u001b[1;32m    454\u001b[0m     \u001b[0mself\u001b[0m\u001b[0;34m.\u001b[0m\u001b[0m_self_setattr_tracking\u001b[0m \u001b[0;34m=\u001b[0m \u001b[0;32mFalse\u001b[0m  \u001b[0;31m# pylint: disable=protected-access\u001b[0m\u001b[0;34m\u001b[0m\u001b[0;34m\u001b[0m\u001b[0m\n\u001b[1;32m    455\u001b[0m     \u001b[0;32mtry\u001b[0m\u001b[0;34m:\u001b[0m\u001b[0;34m\u001b[0m\u001b[0;34m\u001b[0m\u001b[0m\n\u001b[0;32m--> 456\u001b[0;31m       \u001b[0mresult\u001b[0m \u001b[0;34m=\u001b[0m \u001b[0mmethod\u001b[0m\u001b[0;34m(\u001b[0m\u001b[0mself\u001b[0m\u001b[0;34m,\u001b[0m \u001b[0;34m*\u001b[0m\u001b[0margs\u001b[0m\u001b[0;34m,\u001b[0m \u001b[0;34m**\u001b[0m\u001b[0mkwargs\u001b[0m\u001b[0;34m)\u001b[0m\u001b[0;34m\u001b[0m\u001b[0;34m\u001b[0m\u001b[0m\n\u001b[0m\u001b[1;32m    457\u001b[0m     \u001b[0;32mfinally\u001b[0m\u001b[0;34m:\u001b[0m\u001b[0;34m\u001b[0m\u001b[0;34m\u001b[0m\u001b[0m\n\u001b[1;32m    458\u001b[0m       \u001b[0mself\u001b[0m\u001b[0;34m.\u001b[0m\u001b[0m_self_setattr_tracking\u001b[0m \u001b[0;34m=\u001b[0m \u001b[0mprevious_value\u001b[0m  \u001b[0;31m# pylint: disable=protected-access\u001b[0m\u001b[0;34m\u001b[0m\u001b[0;34m\u001b[0m\u001b[0m\n",
      "\u001b[0;32m/usr/local/lib/python3.6/dist-packages/tensorflow/python/keras/engine/sequential.py\u001b[0m in \u001b[0;36madd\u001b[0;34m(self, layer)\u001b[0m\n\u001b[1;32m    211\u001b[0m       \u001b[0;31m# If the model is being built continuously on top of an input layer:\u001b[0m\u001b[0;34m\u001b[0m\u001b[0;34m\u001b[0m\u001b[0;34m\u001b[0m\u001b[0m\n\u001b[1;32m    212\u001b[0m       \u001b[0;31m# refresh its output.\u001b[0m\u001b[0;34m\u001b[0m\u001b[0;34m\u001b[0m\u001b[0;34m\u001b[0m\u001b[0m\n\u001b[0;32m--> 213\u001b[0;31m       \u001b[0moutput_tensor\u001b[0m \u001b[0;34m=\u001b[0m \u001b[0mlayer\u001b[0m\u001b[0;34m(\u001b[0m\u001b[0mself\u001b[0m\u001b[0;34m.\u001b[0m\u001b[0moutputs\u001b[0m\u001b[0;34m[\u001b[0m\u001b[0;36m0\u001b[0m\u001b[0;34m]\u001b[0m\u001b[0;34m)\u001b[0m\u001b[0;34m\u001b[0m\u001b[0;34m\u001b[0m\u001b[0m\n\u001b[0m\u001b[1;32m    214\u001b[0m       \u001b[0;32mif\u001b[0m \u001b[0mlen\u001b[0m\u001b[0;34m(\u001b[0m\u001b[0mnest\u001b[0m\u001b[0;34m.\u001b[0m\u001b[0mflatten\u001b[0m\u001b[0;34m(\u001b[0m\u001b[0moutput_tensor\u001b[0m\u001b[0;34m)\u001b[0m\u001b[0;34m)\u001b[0m \u001b[0;34m!=\u001b[0m \u001b[0;36m1\u001b[0m\u001b[0;34m:\u001b[0m\u001b[0;34m\u001b[0m\u001b[0;34m\u001b[0m\u001b[0m\n\u001b[1;32m    215\u001b[0m         \u001b[0;32mraise\u001b[0m \u001b[0mValueError\u001b[0m\u001b[0;34m(\u001b[0m\u001b[0mSINGLE_LAYER_OUTPUT_ERROR_MSG\u001b[0m\u001b[0;34m)\u001b[0m\u001b[0;34m\u001b[0m\u001b[0;34m\u001b[0m\u001b[0m\n",
      "\u001b[0;32m/usr/local/lib/python3.6/dist-packages/tensorflow/python/keras/engine/base_layer.py\u001b[0m in \u001b[0;36m__call__\u001b[0;34m(self, *args, **kwargs)\u001b[0m\n\u001b[1;32m    895\u001b[0m           \u001b[0;31m# Build layer if applicable (if the `build` method has been\u001b[0m\u001b[0;34m\u001b[0m\u001b[0;34m\u001b[0m\u001b[0;34m\u001b[0m\u001b[0m\n\u001b[1;32m    896\u001b[0m           \u001b[0;31m# overridden).\u001b[0m\u001b[0;34m\u001b[0m\u001b[0;34m\u001b[0m\u001b[0;34m\u001b[0m\u001b[0m\n\u001b[0;32m--> 897\u001b[0;31m           \u001b[0mself\u001b[0m\u001b[0;34m.\u001b[0m\u001b[0m_maybe_build\u001b[0m\u001b[0;34m(\u001b[0m\u001b[0minputs\u001b[0m\u001b[0;34m)\u001b[0m\u001b[0;34m\u001b[0m\u001b[0;34m\u001b[0m\u001b[0m\n\u001b[0m\u001b[1;32m    898\u001b[0m           \u001b[0mcast_inputs\u001b[0m \u001b[0;34m=\u001b[0m \u001b[0mself\u001b[0m\u001b[0;34m.\u001b[0m\u001b[0m_maybe_cast_inputs\u001b[0m\u001b[0;34m(\u001b[0m\u001b[0minputs\u001b[0m\u001b[0;34m)\u001b[0m\u001b[0;34m\u001b[0m\u001b[0;34m\u001b[0m\u001b[0m\n\u001b[1;32m    899\u001b[0m \u001b[0;34m\u001b[0m\u001b[0m\n",
      "\u001b[0;32m/usr/local/lib/python3.6/dist-packages/tensorflow/python/keras/engine/base_layer.py\u001b[0m in \u001b[0;36m_maybe_build\u001b[0;34m(self, inputs)\u001b[0m\n\u001b[1;32m   2414\u001b[0m         \u001b[0;31m# operations.\u001b[0m\u001b[0;34m\u001b[0m\u001b[0;34m\u001b[0m\u001b[0;34m\u001b[0m\u001b[0m\n\u001b[1;32m   2415\u001b[0m         \u001b[0;32mwith\u001b[0m \u001b[0mtf_utils\u001b[0m\u001b[0;34m.\u001b[0m\u001b[0mmaybe_init_scope\u001b[0m\u001b[0;34m(\u001b[0m\u001b[0mself\u001b[0m\u001b[0;34m)\u001b[0m\u001b[0;34m:\u001b[0m\u001b[0;34m\u001b[0m\u001b[0;34m\u001b[0m\u001b[0m\n\u001b[0;32m-> 2416\u001b[0;31m           \u001b[0mself\u001b[0m\u001b[0;34m.\u001b[0m\u001b[0mbuild\u001b[0m\u001b[0;34m(\u001b[0m\u001b[0minput_shapes\u001b[0m\u001b[0;34m)\u001b[0m  \u001b[0;31m# pylint:disable=not-callable\u001b[0m\u001b[0;34m\u001b[0m\u001b[0;34m\u001b[0m\u001b[0m\n\u001b[0m\u001b[1;32m   2417\u001b[0m       \u001b[0;31m# We must set also ensure that the layer is marked as built, and the build\u001b[0m\u001b[0;34m\u001b[0m\u001b[0;34m\u001b[0m\u001b[0;34m\u001b[0m\u001b[0m\n\u001b[1;32m   2418\u001b[0m       \u001b[0;31m# shape is stored since user defined build functions may not be calling\u001b[0m\u001b[0;34m\u001b[0m\u001b[0;34m\u001b[0m\u001b[0;34m\u001b[0m\u001b[0m\n",
      "\u001b[0;32m/usr/local/lib/python3.6/dist-packages/tensorflow/python/keras/layers/core.py\u001b[0m in \u001b[0;36mbuild\u001b[0;34m(self, input_shape)\u001b[0m\n\u001b[1;32m   1163\u001b[0m         \u001b[0mconstraint\u001b[0m\u001b[0;34m=\u001b[0m\u001b[0mself\u001b[0m\u001b[0;34m.\u001b[0m\u001b[0mkernel_constraint\u001b[0m\u001b[0;34m,\u001b[0m\u001b[0;34m\u001b[0m\u001b[0;34m\u001b[0m\u001b[0m\n\u001b[1;32m   1164\u001b[0m         \u001b[0mdtype\u001b[0m\u001b[0;34m=\u001b[0m\u001b[0mself\u001b[0m\u001b[0;34m.\u001b[0m\u001b[0mdtype\u001b[0m\u001b[0;34m,\u001b[0m\u001b[0;34m\u001b[0m\u001b[0;34m\u001b[0m\u001b[0m\n\u001b[0;32m-> 1165\u001b[0;31m         trainable=True)\n\u001b[0m\u001b[1;32m   1166\u001b[0m     \u001b[0;32mif\u001b[0m \u001b[0mself\u001b[0m\u001b[0;34m.\u001b[0m\u001b[0muse_bias\u001b[0m\u001b[0;34m:\u001b[0m\u001b[0;34m\u001b[0m\u001b[0;34m\u001b[0m\u001b[0m\n\u001b[1;32m   1167\u001b[0m       self.bias = self.add_weight(\n",
      "\u001b[0;32m/usr/local/lib/python3.6/dist-packages/tensorflow/python/keras/engine/base_layer.py\u001b[0m in \u001b[0;36madd_weight\u001b[0;34m(self, name, shape, dtype, initializer, regularizer, trainable, constraint, partitioner, use_resource, synchronization, aggregation, **kwargs)\u001b[0m\n\u001b[1;32m    575\u001b[0m         \u001b[0msynchronization\u001b[0m\u001b[0;34m=\u001b[0m\u001b[0msynchronization\u001b[0m\u001b[0;34m,\u001b[0m\u001b[0;34m\u001b[0m\u001b[0;34m\u001b[0m\u001b[0m\n\u001b[1;32m    576\u001b[0m         \u001b[0maggregation\u001b[0m\u001b[0;34m=\u001b[0m\u001b[0maggregation\u001b[0m\u001b[0;34m,\u001b[0m\u001b[0;34m\u001b[0m\u001b[0;34m\u001b[0m\u001b[0m\n\u001b[0;32m--> 577\u001b[0;31m         caching_device=caching_device)\n\u001b[0m\u001b[1;32m    578\u001b[0m     \u001b[0;32mif\u001b[0m \u001b[0mregularizer\u001b[0m \u001b[0;32mis\u001b[0m \u001b[0;32mnot\u001b[0m \u001b[0;32mNone\u001b[0m\u001b[0;34m:\u001b[0m\u001b[0;34m\u001b[0m\u001b[0;34m\u001b[0m\u001b[0m\n\u001b[1;32m    579\u001b[0m       \u001b[0;31m# TODO(fchollet): in the future, this should be handled at the\u001b[0m\u001b[0;34m\u001b[0m\u001b[0;34m\u001b[0m\u001b[0;34m\u001b[0m\u001b[0m\n",
      "\u001b[0;32m/usr/local/lib/python3.6/dist-packages/tensorflow/python/training/tracking/base.py\u001b[0m in \u001b[0;36m_add_variable_with_custom_getter\u001b[0;34m(self, name, shape, dtype, initializer, getter, overwrite, **kwargs_for_getter)\u001b[0m\n\u001b[1;32m    741\u001b[0m         \u001b[0mdtype\u001b[0m\u001b[0;34m=\u001b[0m\u001b[0mdtype\u001b[0m\u001b[0;34m,\u001b[0m\u001b[0;34m\u001b[0m\u001b[0;34m\u001b[0m\u001b[0m\n\u001b[1;32m    742\u001b[0m         \u001b[0minitializer\u001b[0m\u001b[0;34m=\u001b[0m\u001b[0minitializer\u001b[0m\u001b[0;34m,\u001b[0m\u001b[0;34m\u001b[0m\u001b[0;34m\u001b[0m\u001b[0m\n\u001b[0;32m--> 743\u001b[0;31m         **kwargs_for_getter)\n\u001b[0m\u001b[1;32m    744\u001b[0m \u001b[0;34m\u001b[0m\u001b[0m\n\u001b[1;32m    745\u001b[0m     \u001b[0;31m# If we set an initializer and the variable processed it, tracking will not\u001b[0m\u001b[0;34m\u001b[0m\u001b[0;34m\u001b[0m\u001b[0;34m\u001b[0m\u001b[0m\n",
      "\u001b[0;32m/usr/local/lib/python3.6/dist-packages/tensorflow/python/keras/engine/base_layer_utils.py\u001b[0m in \u001b[0;36mmake_variable\u001b[0;34m(name, shape, dtype, initializer, trainable, caching_device, validate_shape, constraint, use_resource, collections, synchronization, aggregation, partitioner)\u001b[0m\n\u001b[1;32m    139\u001b[0m       \u001b[0msynchronization\u001b[0m\u001b[0;34m=\u001b[0m\u001b[0msynchronization\u001b[0m\u001b[0;34m,\u001b[0m\u001b[0;34m\u001b[0m\u001b[0;34m\u001b[0m\u001b[0m\n\u001b[1;32m    140\u001b[0m       \u001b[0maggregation\u001b[0m\u001b[0;34m=\u001b[0m\u001b[0maggregation\u001b[0m\u001b[0;34m,\u001b[0m\u001b[0;34m\u001b[0m\u001b[0;34m\u001b[0m\u001b[0m\n\u001b[0;32m--> 141\u001b[0;31m       shape=variable_shape if variable_shape else None)\n\u001b[0m\u001b[1;32m    142\u001b[0m \u001b[0;34m\u001b[0m\u001b[0m\n\u001b[1;32m    143\u001b[0m \u001b[0;34m\u001b[0m\u001b[0m\n",
      "\u001b[0;32m/usr/local/lib/python3.6/dist-packages/tensorflow/python/ops/variables.py\u001b[0m in \u001b[0;36m__call__\u001b[0;34m(cls, *args, **kwargs)\u001b[0m\n\u001b[1;32m    257\u001b[0m   \u001b[0;32mdef\u001b[0m \u001b[0m__call__\u001b[0m\u001b[0;34m(\u001b[0m\u001b[0mcls\u001b[0m\u001b[0;34m,\u001b[0m \u001b[0;34m*\u001b[0m\u001b[0margs\u001b[0m\u001b[0;34m,\u001b[0m \u001b[0;34m**\u001b[0m\u001b[0mkwargs\u001b[0m\u001b[0;34m)\u001b[0m\u001b[0;34m:\u001b[0m\u001b[0;34m\u001b[0m\u001b[0;34m\u001b[0m\u001b[0m\n\u001b[1;32m    258\u001b[0m     \u001b[0;32mif\u001b[0m \u001b[0mcls\u001b[0m \u001b[0;32mis\u001b[0m \u001b[0mVariableV1\u001b[0m\u001b[0;34m:\u001b[0m\u001b[0;34m\u001b[0m\u001b[0;34m\u001b[0m\u001b[0m\n\u001b[0;32m--> 259\u001b[0;31m       \u001b[0;32mreturn\u001b[0m \u001b[0mcls\u001b[0m\u001b[0;34m.\u001b[0m\u001b[0m_variable_v1_call\u001b[0m\u001b[0;34m(\u001b[0m\u001b[0;34m*\u001b[0m\u001b[0margs\u001b[0m\u001b[0;34m,\u001b[0m \u001b[0;34m**\u001b[0m\u001b[0mkwargs\u001b[0m\u001b[0;34m)\u001b[0m\u001b[0;34m\u001b[0m\u001b[0;34m\u001b[0m\u001b[0m\n\u001b[0m\u001b[1;32m    260\u001b[0m     \u001b[0;32melif\u001b[0m \u001b[0mcls\u001b[0m \u001b[0;32mis\u001b[0m \u001b[0mVariable\u001b[0m\u001b[0;34m:\u001b[0m\u001b[0;34m\u001b[0m\u001b[0;34m\u001b[0m\u001b[0m\n\u001b[1;32m    261\u001b[0m       \u001b[0;32mreturn\u001b[0m \u001b[0mcls\u001b[0m\u001b[0;34m.\u001b[0m\u001b[0m_variable_v2_call\u001b[0m\u001b[0;34m(\u001b[0m\u001b[0;34m*\u001b[0m\u001b[0margs\u001b[0m\u001b[0;34m,\u001b[0m \u001b[0;34m**\u001b[0m\u001b[0mkwargs\u001b[0m\u001b[0;34m)\u001b[0m\u001b[0;34m\u001b[0m\u001b[0;34m\u001b[0m\u001b[0m\n",
      "\u001b[0;32m/usr/local/lib/python3.6/dist-packages/tensorflow/python/ops/variables.py\u001b[0m in \u001b[0;36m_variable_v1_call\u001b[0;34m(cls, initial_value, trainable, collections, validate_shape, caching_device, name, variable_def, dtype, expected_shape, import_scope, constraint, use_resource, synchronization, aggregation, shape)\u001b[0m\n\u001b[1;32m    218\u001b[0m         \u001b[0msynchronization\u001b[0m\u001b[0;34m=\u001b[0m\u001b[0msynchronization\u001b[0m\u001b[0;34m,\u001b[0m\u001b[0;34m\u001b[0m\u001b[0;34m\u001b[0m\u001b[0m\n\u001b[1;32m    219\u001b[0m         \u001b[0maggregation\u001b[0m\u001b[0;34m=\u001b[0m\u001b[0maggregation\u001b[0m\u001b[0;34m,\u001b[0m\u001b[0;34m\u001b[0m\u001b[0;34m\u001b[0m\u001b[0m\n\u001b[0;32m--> 220\u001b[0;31m         shape=shape)\n\u001b[0m\u001b[1;32m    221\u001b[0m \u001b[0;34m\u001b[0m\u001b[0m\n\u001b[1;32m    222\u001b[0m   def _variable_v2_call(cls,\n",
      "\u001b[0;32m/usr/local/lib/python3.6/dist-packages/tensorflow/python/ops/variables.py\u001b[0m in \u001b[0;36m<lambda>\u001b[0;34m(**kwargs)\u001b[0m\n\u001b[1;32m    196\u001b[0m                         shape=None):\n\u001b[1;32m    197\u001b[0m     \u001b[0;34m\"\"\"Call on Variable class. Useful to force the signature.\"\"\"\u001b[0m\u001b[0;34m\u001b[0m\u001b[0;34m\u001b[0m\u001b[0m\n\u001b[0;32m--> 198\u001b[0;31m     \u001b[0mprevious_getter\u001b[0m \u001b[0;34m=\u001b[0m \u001b[0;32mlambda\u001b[0m \u001b[0;34m**\u001b[0m\u001b[0mkwargs\u001b[0m\u001b[0;34m:\u001b[0m \u001b[0mdefault_variable_creator\u001b[0m\u001b[0;34m(\u001b[0m\u001b[0;32mNone\u001b[0m\u001b[0;34m,\u001b[0m \u001b[0;34m**\u001b[0m\u001b[0mkwargs\u001b[0m\u001b[0;34m)\u001b[0m\u001b[0;34m\u001b[0m\u001b[0;34m\u001b[0m\u001b[0m\n\u001b[0m\u001b[1;32m    199\u001b[0m     \u001b[0;32mfor\u001b[0m \u001b[0m_\u001b[0m\u001b[0;34m,\u001b[0m \u001b[0mgetter\u001b[0m \u001b[0;32min\u001b[0m \u001b[0mops\u001b[0m\u001b[0;34m.\u001b[0m\u001b[0mget_default_graph\u001b[0m\u001b[0;34m(\u001b[0m\u001b[0;34m)\u001b[0m\u001b[0;34m.\u001b[0m\u001b[0m_variable_creator_stack\u001b[0m\u001b[0;34m:\u001b[0m  \u001b[0;31m# pylint: disable=protected-access\u001b[0m\u001b[0;34m\u001b[0m\u001b[0;34m\u001b[0m\u001b[0m\n\u001b[1;32m    200\u001b[0m       \u001b[0mprevious_getter\u001b[0m \u001b[0;34m=\u001b[0m \u001b[0m_make_getter\u001b[0m\u001b[0;34m(\u001b[0m\u001b[0mgetter\u001b[0m\u001b[0;34m,\u001b[0m \u001b[0mprevious_getter\u001b[0m\u001b[0;34m)\u001b[0m\u001b[0;34m\u001b[0m\u001b[0;34m\u001b[0m\u001b[0m\n",
      "\u001b[0;32m/usr/local/lib/python3.6/dist-packages/tensorflow/python/ops/variable_scope.py\u001b[0m in \u001b[0;36mdefault_variable_creator\u001b[0;34m(next_creator, **kwargs)\u001b[0m\n\u001b[1;32m   2596\u001b[0m         \u001b[0msynchronization\u001b[0m\u001b[0;34m=\u001b[0m\u001b[0msynchronization\u001b[0m\u001b[0;34m,\u001b[0m\u001b[0;34m\u001b[0m\u001b[0;34m\u001b[0m\u001b[0m\n\u001b[1;32m   2597\u001b[0m         \u001b[0maggregation\u001b[0m\u001b[0;34m=\u001b[0m\u001b[0maggregation\u001b[0m\u001b[0;34m,\u001b[0m\u001b[0;34m\u001b[0m\u001b[0;34m\u001b[0m\u001b[0m\n\u001b[0;32m-> 2598\u001b[0;31m         shape=shape)\n\u001b[0m\u001b[1;32m   2599\u001b[0m   \u001b[0;32melse\u001b[0m\u001b[0;34m:\u001b[0m\u001b[0;34m\u001b[0m\u001b[0;34m\u001b[0m\u001b[0m\n\u001b[1;32m   2600\u001b[0m     return variables.RefVariable(\n",
      "\u001b[0;32m/usr/local/lib/python3.6/dist-packages/tensorflow/python/ops/variables.py\u001b[0m in \u001b[0;36m__call__\u001b[0;34m(cls, *args, **kwargs)\u001b[0m\n\u001b[1;32m    261\u001b[0m       \u001b[0;32mreturn\u001b[0m \u001b[0mcls\u001b[0m\u001b[0;34m.\u001b[0m\u001b[0m_variable_v2_call\u001b[0m\u001b[0;34m(\u001b[0m\u001b[0;34m*\u001b[0m\u001b[0margs\u001b[0m\u001b[0;34m,\u001b[0m \u001b[0;34m**\u001b[0m\u001b[0mkwargs\u001b[0m\u001b[0;34m)\u001b[0m\u001b[0;34m\u001b[0m\u001b[0;34m\u001b[0m\u001b[0m\n\u001b[1;32m    262\u001b[0m     \u001b[0;32melse\u001b[0m\u001b[0;34m:\u001b[0m\u001b[0;34m\u001b[0m\u001b[0;34m\u001b[0m\u001b[0m\n\u001b[0;32m--> 263\u001b[0;31m       \u001b[0;32mreturn\u001b[0m \u001b[0msuper\u001b[0m\u001b[0;34m(\u001b[0m\u001b[0mVariableMetaclass\u001b[0m\u001b[0;34m,\u001b[0m \u001b[0mcls\u001b[0m\u001b[0;34m)\u001b[0m\u001b[0;34m.\u001b[0m\u001b[0m__call__\u001b[0m\u001b[0;34m(\u001b[0m\u001b[0;34m*\u001b[0m\u001b[0margs\u001b[0m\u001b[0;34m,\u001b[0m \u001b[0;34m**\u001b[0m\u001b[0mkwargs\u001b[0m\u001b[0;34m)\u001b[0m\u001b[0;34m\u001b[0m\u001b[0;34m\u001b[0m\u001b[0m\n\u001b[0m\u001b[1;32m    264\u001b[0m \u001b[0;34m\u001b[0m\u001b[0m\n\u001b[1;32m    265\u001b[0m \u001b[0;34m\u001b[0m\u001b[0m\n",
      "\u001b[0;32m/usr/local/lib/python3.6/dist-packages/tensorflow/python/ops/resource_variable_ops.py\u001b[0m in \u001b[0;36m__init__\u001b[0;34m(self, initial_value, trainable, collections, validate_shape, caching_device, name, dtype, variable_def, import_scope, constraint, distribute_strategy, synchronization, aggregation, shape)\u001b[0m\n\u001b[1;32m   1432\u001b[0m           \u001b[0maggregation\u001b[0m\u001b[0;34m=\u001b[0m\u001b[0maggregation\u001b[0m\u001b[0;34m,\u001b[0m\u001b[0;34m\u001b[0m\u001b[0;34m\u001b[0m\u001b[0m\n\u001b[1;32m   1433\u001b[0m           \u001b[0mshape\u001b[0m\u001b[0;34m=\u001b[0m\u001b[0mshape\u001b[0m\u001b[0;34m,\u001b[0m\u001b[0;34m\u001b[0m\u001b[0;34m\u001b[0m\u001b[0m\n\u001b[0;32m-> 1434\u001b[0;31m           distribute_strategy=distribute_strategy)\n\u001b[0m\u001b[1;32m   1435\u001b[0m \u001b[0;34m\u001b[0m\u001b[0m\n\u001b[1;32m   1436\u001b[0m   def _init_from_args(self,\n",
      "\u001b[0;32m/usr/local/lib/python3.6/dist-packages/tensorflow/python/ops/resource_variable_ops.py\u001b[0m in \u001b[0;36m_init_from_args\u001b[0;34m(self, initial_value, trainable, collections, caching_device, name, dtype, constraint, synchronization, aggregation, distribute_strategy, shape)\u001b[0m\n\u001b[1;32m   1565\u001b[0m           \u001b[0;32mwith\u001b[0m \u001b[0mops\u001b[0m\u001b[0;34m.\u001b[0m\u001b[0mname_scope\u001b[0m\u001b[0;34m(\u001b[0m\u001b[0;34m\"Initializer\"\u001b[0m\u001b[0;34m)\u001b[0m\u001b[0;34m,\u001b[0m \u001b[0mdevice_context_manager\u001b[0m\u001b[0;34m(\u001b[0m\u001b[0;32mNone\u001b[0m\u001b[0;34m)\u001b[0m\u001b[0;34m:\u001b[0m\u001b[0;34m\u001b[0m\u001b[0;34m\u001b[0m\u001b[0m\n\u001b[1;32m   1566\u001b[0m             initial_value = ops.convert_to_tensor(\n\u001b[0;32m-> 1567\u001b[0;31m                 \u001b[0minitial_value\u001b[0m\u001b[0;34m(\u001b[0m\u001b[0;34m)\u001b[0m \u001b[0;32mif\u001b[0m \u001b[0minit_from_fn\u001b[0m \u001b[0;32melse\u001b[0m \u001b[0minitial_value\u001b[0m\u001b[0;34m,\u001b[0m\u001b[0;34m\u001b[0m\u001b[0;34m\u001b[0m\u001b[0m\n\u001b[0m\u001b[1;32m   1568\u001b[0m                 name=\"initial_value\", dtype=dtype)\n\u001b[1;32m   1569\u001b[0m           \u001b[0;32mif\u001b[0m \u001b[0mshape\u001b[0m \u001b[0;32mis\u001b[0m \u001b[0;32mnot\u001b[0m \u001b[0;32mNone\u001b[0m\u001b[0;34m:\u001b[0m\u001b[0;34m\u001b[0m\u001b[0;34m\u001b[0m\u001b[0m\n",
      "\u001b[0;32m/usr/local/lib/python3.6/dist-packages/tensorflow/python/keras/engine/base_layer_utils.py\u001b[0m in \u001b[0;36m<lambda>\u001b[0;34m()\u001b[0m\n\u001b[1;32m    119\u001b[0m         (type(init_ops.Initializer), type(init_ops_v2.Initializer))):\n\u001b[1;32m    120\u001b[0m       \u001b[0minitializer\u001b[0m \u001b[0;34m=\u001b[0m \u001b[0minitializer\u001b[0m\u001b[0;34m(\u001b[0m\u001b[0;34m)\u001b[0m\u001b[0;34m\u001b[0m\u001b[0;34m\u001b[0m\u001b[0m\n\u001b[0;32m--> 121\u001b[0;31m     \u001b[0minit_val\u001b[0m \u001b[0;34m=\u001b[0m \u001b[0;32mlambda\u001b[0m\u001b[0;34m:\u001b[0m \u001b[0minitializer\u001b[0m\u001b[0;34m(\u001b[0m\u001b[0mshape\u001b[0m\u001b[0;34m,\u001b[0m \u001b[0mdtype\u001b[0m\u001b[0;34m=\u001b[0m\u001b[0mdtype\u001b[0m\u001b[0;34m)\u001b[0m\u001b[0;34m\u001b[0m\u001b[0;34m\u001b[0m\u001b[0m\n\u001b[0m\u001b[1;32m    122\u001b[0m     \u001b[0mvariable_dtype\u001b[0m \u001b[0;34m=\u001b[0m \u001b[0mdtype\u001b[0m\u001b[0;34m.\u001b[0m\u001b[0mbase_dtype\u001b[0m\u001b[0;34m\u001b[0m\u001b[0;34m\u001b[0m\u001b[0m\n\u001b[1;32m    123\u001b[0m   \u001b[0;32mif\u001b[0m \u001b[0muse_resource\u001b[0m \u001b[0;32mis\u001b[0m \u001b[0;32mNone\u001b[0m\u001b[0;34m:\u001b[0m\u001b[0;34m\u001b[0m\u001b[0;34m\u001b[0m\u001b[0m\n",
      "\u001b[0;32m/usr/local/lib/python3.6/dist-packages/tensorflow/python/ops/init_ops_v2.py\u001b[0m in \u001b[0;36m__call__\u001b[0;34m(self, shape, dtype)\u001b[0m\n\u001b[1;32m    556\u001b[0m     \u001b[0;32melse\u001b[0m\u001b[0;34m:\u001b[0m\u001b[0;34m\u001b[0m\u001b[0;34m\u001b[0m\u001b[0m\n\u001b[1;32m    557\u001b[0m       \u001b[0mlimit\u001b[0m \u001b[0;34m=\u001b[0m \u001b[0mmath\u001b[0m\u001b[0;34m.\u001b[0m\u001b[0msqrt\u001b[0m\u001b[0;34m(\u001b[0m\u001b[0;36m3.0\u001b[0m \u001b[0;34m*\u001b[0m \u001b[0mscale\u001b[0m\u001b[0;34m)\u001b[0m\u001b[0;34m\u001b[0m\u001b[0;34m\u001b[0m\u001b[0m\n\u001b[0;32m--> 558\u001b[0;31m       \u001b[0;32mreturn\u001b[0m \u001b[0mself\u001b[0m\u001b[0;34m.\u001b[0m\u001b[0m_random_generator\u001b[0m\u001b[0;34m.\u001b[0m\u001b[0mrandom_uniform\u001b[0m\u001b[0;34m(\u001b[0m\u001b[0mshape\u001b[0m\u001b[0;34m,\u001b[0m \u001b[0;34m-\u001b[0m\u001b[0mlimit\u001b[0m\u001b[0;34m,\u001b[0m \u001b[0mlimit\u001b[0m\u001b[0;34m,\u001b[0m \u001b[0mdtype\u001b[0m\u001b[0;34m)\u001b[0m\u001b[0;34m\u001b[0m\u001b[0;34m\u001b[0m\u001b[0m\n\u001b[0m\u001b[1;32m    559\u001b[0m \u001b[0;34m\u001b[0m\u001b[0m\n\u001b[1;32m    560\u001b[0m   \u001b[0;32mdef\u001b[0m \u001b[0mget_config\u001b[0m\u001b[0;34m(\u001b[0m\u001b[0mself\u001b[0m\u001b[0;34m)\u001b[0m\u001b[0;34m:\u001b[0m\u001b[0;34m\u001b[0m\u001b[0;34m\u001b[0m\u001b[0m\n",
      "\u001b[0;32m/usr/local/lib/python3.6/dist-packages/tensorflow/python/ops/init_ops_v2.py\u001b[0m in \u001b[0;36mrandom_uniform\u001b[0;34m(self, shape, minval, maxval, dtype)\u001b[0m\n\u001b[1;32m   1066\u001b[0m       \u001b[0mop\u001b[0m \u001b[0;34m=\u001b[0m \u001b[0mrandom_ops\u001b[0m\u001b[0;34m.\u001b[0m\u001b[0mrandom_uniform\u001b[0m\u001b[0;34m\u001b[0m\u001b[0;34m\u001b[0m\u001b[0m\n\u001b[1;32m   1067\u001b[0m     return op(\n\u001b[0;32m-> 1068\u001b[0;31m         shape=shape, minval=minval, maxval=maxval, dtype=dtype, seed=self.seed)\n\u001b[0m\u001b[1;32m   1069\u001b[0m \u001b[0;34m\u001b[0m\u001b[0m\n\u001b[1;32m   1070\u001b[0m   \u001b[0;32mdef\u001b[0m \u001b[0mtruncated_normal\u001b[0m\u001b[0;34m(\u001b[0m\u001b[0mself\u001b[0m\u001b[0;34m,\u001b[0m \u001b[0mshape\u001b[0m\u001b[0;34m,\u001b[0m \u001b[0mmean\u001b[0m\u001b[0;34m,\u001b[0m \u001b[0mstddev\u001b[0m\u001b[0;34m,\u001b[0m \u001b[0mdtype\u001b[0m\u001b[0;34m)\u001b[0m\u001b[0;34m:\u001b[0m\u001b[0;34m\u001b[0m\u001b[0;34m\u001b[0m\u001b[0m\n",
      "\u001b[0;32m/usr/local/lib/python3.6/dist-packages/tensorflow/python/ops/random_ops.py\u001b[0m in \u001b[0;36mrandom_uniform\u001b[0;34m(shape, minval, maxval, dtype, seed, name)\u001b[0m\n\u001b[1;32m    299\u001b[0m           \u001b[0mresult\u001b[0m \u001b[0;34m=\u001b[0m \u001b[0mmath_ops\u001b[0m\u001b[0;34m.\u001b[0m\u001b[0mmultiply\u001b[0m\u001b[0;34m(\u001b[0m\u001b[0mresult\u001b[0m\u001b[0;34m,\u001b[0m \u001b[0mmaxval\u001b[0m\u001b[0;34m)\u001b[0m\u001b[0;34m\u001b[0m\u001b[0;34m\u001b[0m\u001b[0m\n\u001b[1;32m    300\u001b[0m       \u001b[0;32melse\u001b[0m\u001b[0;34m:\u001b[0m\u001b[0;34m\u001b[0m\u001b[0;34m\u001b[0m\u001b[0m\n\u001b[0;32m--> 301\u001b[0;31m         \u001b[0mresult\u001b[0m \u001b[0;34m=\u001b[0m \u001b[0mmath_ops\u001b[0m\u001b[0;34m.\u001b[0m\u001b[0madd\u001b[0m\u001b[0;34m(\u001b[0m\u001b[0mresult\u001b[0m \u001b[0;34m*\u001b[0m \u001b[0;34m(\u001b[0m\u001b[0mmaxval\u001b[0m \u001b[0;34m-\u001b[0m \u001b[0mminval\u001b[0m\u001b[0;34m)\u001b[0m\u001b[0;34m,\u001b[0m \u001b[0mminval\u001b[0m\u001b[0;34m,\u001b[0m \u001b[0mname\u001b[0m\u001b[0;34m=\u001b[0m\u001b[0mname\u001b[0m\u001b[0;34m)\u001b[0m\u001b[0;34m\u001b[0m\u001b[0;34m\u001b[0m\u001b[0m\n\u001b[0m\u001b[1;32m    302\u001b[0m     \u001b[0;31m# TODO(b/132092188): C++ shape inference inside functional ops does not\u001b[0m\u001b[0;34m\u001b[0m\u001b[0;34m\u001b[0m\u001b[0;34m\u001b[0m\u001b[0m\n\u001b[1;32m    303\u001b[0m     \u001b[0;31m# cross FuncGraph boundaries since that information is only available in\u001b[0m\u001b[0;34m\u001b[0m\u001b[0;34m\u001b[0m\u001b[0;34m\u001b[0m\u001b[0m\n",
      "\u001b[0;32m/usr/local/lib/python3.6/dist-packages/tensorflow/python/ops/gen_math_ops.py\u001b[0m in \u001b[0;36madd\u001b[0;34m(x, y, name)\u001b[0m\n\u001b[1;32m    341\u001b[0m         \u001b[0;32mraise\u001b[0m\u001b[0;34m\u001b[0m\u001b[0;34m\u001b[0m\u001b[0m\n\u001b[1;32m    342\u001b[0m     \u001b[0;32mexcept\u001b[0m \u001b[0m_core\u001b[0m\u001b[0;34m.\u001b[0m\u001b[0m_NotOkStatusException\u001b[0m \u001b[0;32mas\u001b[0m \u001b[0me\u001b[0m\u001b[0;34m:\u001b[0m\u001b[0;34m\u001b[0m\u001b[0;34m\u001b[0m\u001b[0m\n\u001b[0;32m--> 343\u001b[0;31m       \u001b[0m_ops\u001b[0m\u001b[0;34m.\u001b[0m\u001b[0mraise_from_not_ok_status\u001b[0m\u001b[0;34m(\u001b[0m\u001b[0me\u001b[0m\u001b[0;34m,\u001b[0m \u001b[0mname\u001b[0m\u001b[0;34m)\u001b[0m\u001b[0;34m\u001b[0m\u001b[0;34m\u001b[0m\u001b[0m\n\u001b[0m\u001b[1;32m    344\u001b[0m   \u001b[0;31m# Add nodes to the TensorFlow graph.\u001b[0m\u001b[0;34m\u001b[0m\u001b[0;34m\u001b[0m\u001b[0;34m\u001b[0m\u001b[0m\n\u001b[1;32m    345\u001b[0m   \u001b[0;32mtry\u001b[0m\u001b[0;34m:\u001b[0m\u001b[0;34m\u001b[0m\u001b[0;34m\u001b[0m\u001b[0m\n",
      "\u001b[0;32m/usr/local/lib/python3.6/dist-packages/tensorflow/python/framework/ops.py\u001b[0m in \u001b[0;36mraise_from_not_ok_status\u001b[0;34m(e, name)\u001b[0m\n\u001b[1;32m   6651\u001b[0m   \u001b[0mmessage\u001b[0m \u001b[0;34m=\u001b[0m \u001b[0me\u001b[0m\u001b[0;34m.\u001b[0m\u001b[0mmessage\u001b[0m \u001b[0;34m+\u001b[0m \u001b[0;34m(\u001b[0m\u001b[0;34m\" name: \"\u001b[0m \u001b[0;34m+\u001b[0m \u001b[0mname\u001b[0m \u001b[0;32mif\u001b[0m \u001b[0mname\u001b[0m \u001b[0;32mis\u001b[0m \u001b[0;32mnot\u001b[0m \u001b[0;32mNone\u001b[0m \u001b[0;32melse\u001b[0m \u001b[0;34m\"\"\u001b[0m\u001b[0;34m)\u001b[0m\u001b[0;34m\u001b[0m\u001b[0;34m\u001b[0m\u001b[0m\n\u001b[1;32m   6652\u001b[0m   \u001b[0;31m# pylint: disable=protected-access\u001b[0m\u001b[0;34m\u001b[0m\u001b[0;34m\u001b[0m\u001b[0;34m\u001b[0m\u001b[0m\n\u001b[0;32m-> 6653\u001b[0;31m   \u001b[0msix\u001b[0m\u001b[0;34m.\u001b[0m\u001b[0mraise_from\u001b[0m\u001b[0;34m(\u001b[0m\u001b[0mcore\u001b[0m\u001b[0;34m.\u001b[0m\u001b[0m_status_to_exception\u001b[0m\u001b[0;34m(\u001b[0m\u001b[0me\u001b[0m\u001b[0;34m.\u001b[0m\u001b[0mcode\u001b[0m\u001b[0;34m,\u001b[0m \u001b[0mmessage\u001b[0m\u001b[0;34m)\u001b[0m\u001b[0;34m,\u001b[0m \u001b[0;32mNone\u001b[0m\u001b[0;34m)\u001b[0m\u001b[0;34m\u001b[0m\u001b[0;34m\u001b[0m\u001b[0m\n\u001b[0m\u001b[1;32m   6654\u001b[0m   \u001b[0;31m# pylint: enable=protected-access\u001b[0m\u001b[0;34m\u001b[0m\u001b[0;34m\u001b[0m\u001b[0;34m\u001b[0m\u001b[0m\n\u001b[1;32m   6655\u001b[0m \u001b[0;34m\u001b[0m\u001b[0m\n",
      "\u001b[0;32m/usr/local/lib/python3.6/dist-packages/six.py\u001b[0m in \u001b[0;36mraise_from\u001b[0;34m(value, from_value)\u001b[0m\n",
      "\u001b[0;31mResourceExhaustedError\u001b[0m: OOM when allocating tensor with shape[180000,32] and type float on /job:localhost/replica:0/task:0/device:GPU:0 by allocator GPU_0_bfc [Op:Add]"
     ]
    }
   ],
   "source": [
    "# Using CNN to start modelling\n",
    "\n",
    "model = Sequential()\n",
    "model.add(Conv2D(filters = 32, kernel_size = (5,5),padding = 'Same',activation ='relu', input_shape = (150,150,3)))\n",
    "model.add(MaxPooling2D(pool_size=(2,2)))\n",
    "\n",
    "# model.add(Conv2D(filters = 64, kernel_size = (3,3),padding = 'Same',activation ='relu'))\n",
    "# model.add(MaxPooling2D(pool_size=(2,2), strides=(2,2)))\n",
    " \n",
    "# #model.add(Conv2D(filters =96, kernel_size = (3,3),padding = 'Same',activation ='relu'))\n",
    "# #model.add(MaxPooling2D(pool_size=(2,2), strides=(2,2)))\n",
    "\n",
    "# model.add(Conv2D(filters = 96, kernel_size = (3,3),padding = 'Same',activation ='relu'))\n",
    "# model.add(MaxPooling2D(pool_size=(2,2), strides=(2,2)))\n",
    "\n",
    "model.add(Flatten())\n",
    "model.add(Dense(32))\n",
    "model.add(Activation('relu'))\n",
    "model.add(Dense(2, activation = \"softmax\"))\n",
    "\n",
    "# model = Sequential([\n",
    "#         # Conv layer #1\n",
    "#         Conv2D(\n",
    "#             filters = conv__filters_1, \n",
    "#             kernel_size = kernel_size + 4, \n",
    "#             activation  = activation_func, \n",
    "#             input_shape = input_shape, #input layer\n",
    "#             padding     = \"same\"\n",
    "#         ),\n",
    "#         Conv2D(filters = conv__filters_1, kernel_size = kernel_size + 4, activation = activation_func, padding = \"same\"),\n",
    "#         MaxPooling2D(pool_size=(2,2)),\n",
    "#         Dropout(dropout/2),\n",
    "\n",
    "#         # Conv layer #2\n",
    "#         Conv2D(filters = conv__filters_2, kernel_size = kernel_size + 2, activation=activation_func, padding = \"same\"),\n",
    "#         Conv2D(filters = conv__filters_2, kernel_size = kernel_size + 2, activation = activation_func, padding = \"same\"),\n",
    "#         MaxPooling2D(pool_size=(2,2)),\n",
    "#         Dropout(dropout/2),\n",
    "\n",
    "#         # Conv layer #3\n",
    "#         Conv2D(filters = conv__filters_3, kernel_size = kernel_size, activation=activation_func, padding = \"same\"),\n",
    "#         Conv2D(filters = conv__filters_3, kernel_size = kernel_size, activation = activation_func, padding = \"same\"),\n",
    "#         MaxPooling2D(pool_size=(2,2)),\n",
    "#         Dropout(dropout/2),\n",
    "\n",
    "#         # Dense layer #1\n",
    "#         Flatten(),\n",
    "#         Dense(density_units_1, activation=activation_func),\n",
    "#         Dropout(dropout),\n",
    "        \n",
    "#         # Dense layer #2\n",
    "#         Dense(density_units_2, activation=activation_func),\n",
    "#         Dropout(dropout),\n",
    "        \n",
    "#         # Output layer\n",
    "#         Dense(2, activation = \"softmax\")\n",
    "#     ])"
   ]
  },
  {
   "cell_type": "code",
   "execution_count": null,
   "metadata": {},
   "outputs": [],
   "source": [
    "# Using a LR Annealer\n",
    "\n",
    "batch_size = 54 # 128\n",
    "epochs = 50\n",
    "\n",
    "from keras.callbacks import ReduceLROnPlateau\n",
    "red_lr= ReduceLROnPlateau(monitor='val_acc',patience=3,verbose=1,factor=0.1)"
   ]
  },
  {
   "cell_type": "code",
   "execution_count": null,
   "metadata": {},
   "outputs": [],
   "source": [
    "# data augmentation to prevent overfitting\n",
    "\n",
    "datagen = ImageDataGenerator(\n",
    "        featurewise_center=False,  # set input mean to 0 over the dataset\n",
    "        samplewise_center=False,  # set each sample mean to 0\n",
    "        featurewise_std_normalization=False,  # divide inputs by std of the dataset\n",
    "        samplewise_std_normalization=False,  # divide each input by its std\n",
    "        zca_whitening=False,  # apply ZCA whitening\n",
    "        rotation_range=10,  # randomly rotate images in the range (degrees, 0 to 180)\n",
    "        zoom_range = 0.1, # Randomly zoom image \n",
    "        width_shift_range=0.2,  # randomly shift images horizontally (fraction of total width)\n",
    "        height_shift_range=0.2,  # randomly shift images vertically (fraction of total height)\n",
    "        horizontal_flip=True,  # randomly flip images\n",
    "        vertical_flip=False)  # randomly flip images\n",
    "\n",
    "\n",
    "datagen.fit(x_train)"
   ]
  },
  {
   "cell_type": "code",
   "execution_count": 26,
   "metadata": {
    "collapsed": true,
    "jupyter": {
     "outputs_hidden": true
    }
   },
   "outputs": [
    {
     "data": {
      "text/plain": [
       "array([[[[0.82745098, 0.83921569, 0.83921569],\n",
       "         [0.82745098, 0.83921569, 0.83921569],\n",
       "         [0.82745098, 0.83921569, 0.83921569],\n",
       "         ...,\n",
       "         [0.80784314, 0.81960784, 0.81960784],\n",
       "         [0.80784314, 0.81960784, 0.81960784],\n",
       "         [0.80784314, 0.81960784, 0.81960784]],\n",
       "\n",
       "        [[0.82352941, 0.83921569, 0.83921569],\n",
       "         [0.82352941, 0.83921569, 0.83921569],\n",
       "         [0.82352941, 0.83921569, 0.83921569],\n",
       "         ...,\n",
       "         [0.80784314, 0.81960784, 0.81960784],\n",
       "         [0.80784314, 0.81960784, 0.81960784],\n",
       "         [0.80784314, 0.81960784, 0.81960784]],\n",
       "\n",
       "        [[0.81960784, 0.83529412, 0.83529412],\n",
       "         [0.81960784, 0.83529412, 0.83529412],\n",
       "         [0.81960784, 0.83529412, 0.83529412],\n",
       "         ...,\n",
       "         [0.80784314, 0.81960784, 0.81960784],\n",
       "         [0.80784314, 0.81960784, 0.81960784],\n",
       "         [0.80784314, 0.81960784, 0.81960784]],\n",
       "\n",
       "        ...,\n",
       "\n",
       "        [[0.81176471, 0.82352941, 0.82352941],\n",
       "         [0.81176471, 0.82352941, 0.82352941],\n",
       "         [0.81176471, 0.82352941, 0.82352941],\n",
       "         ...,\n",
       "         [0.67058824, 0.68235294, 0.70196078],\n",
       "         [0.6745098 , 0.68627451, 0.70588235],\n",
       "         [0.6745098 , 0.68627451, 0.70588235]],\n",
       "\n",
       "        [[0.81176471, 0.82352941, 0.82352941],\n",
       "         [0.81176471, 0.82352941, 0.82352941],\n",
       "         [0.81176471, 0.82352941, 0.82352941],\n",
       "         ...,\n",
       "         [0.67058824, 0.68235294, 0.70196078],\n",
       "         [0.6745098 , 0.68627451, 0.70588235],\n",
       "         [0.67843137, 0.69019608, 0.70980392]],\n",
       "\n",
       "        [[0.81176471, 0.82352941, 0.82352941],\n",
       "         [0.81176471, 0.82352941, 0.82352941],\n",
       "         [0.81176471, 0.82352941, 0.82352941],\n",
       "         ...,\n",
       "         [0.67058824, 0.68235294, 0.70196078],\n",
       "         [0.6745098 , 0.68627451, 0.70588235],\n",
       "         [0.67843137, 0.69019608, 0.70980392]]],\n",
       "\n",
       "\n",
       "       [[[0.69019608, 0.69019608, 0.7372549 ],\n",
       "         [0.69019608, 0.69019608, 0.7372549 ],\n",
       "         [0.69803922, 0.69803922, 0.74509804],\n",
       "         ...,\n",
       "         [0.27058824, 0.26666667, 0.2745098 ],\n",
       "         [0.28235294, 0.27843137, 0.28627451],\n",
       "         [0.28627451, 0.28235294, 0.29019608]],\n",
       "\n",
       "        [[0.68235294, 0.68235294, 0.72941176],\n",
       "         [0.68627451, 0.68627451, 0.73333333],\n",
       "         [0.69019608, 0.69019608, 0.7372549 ],\n",
       "         ...,\n",
       "         [0.2627451 , 0.25882353, 0.26666667],\n",
       "         [0.2745098 , 0.27058824, 0.27843137],\n",
       "         [0.27843137, 0.2745098 , 0.28235294]],\n",
       "\n",
       "        [[0.66666667, 0.66666667, 0.71372549],\n",
       "         [0.67058824, 0.67058824, 0.71764706],\n",
       "         [0.6745098 , 0.6745098 , 0.72156863],\n",
       "         ...,\n",
       "         [0.23921569, 0.23529412, 0.24313725],\n",
       "         [0.25098039, 0.24705882, 0.25490196],\n",
       "         [0.25098039, 0.24705882, 0.25490196]],\n",
       "\n",
       "        ...,\n",
       "\n",
       "        [[0.77647059, 0.79215686, 0.84313725],\n",
       "         [0.77647059, 0.79215686, 0.84313725],\n",
       "         [0.77647059, 0.79607843, 0.84705882],\n",
       "         ...,\n",
       "         [0.87058824, 0.89019608, 0.94117647],\n",
       "         [0.86666667, 0.88627451, 0.9372549 ],\n",
       "         [0.86666667, 0.88627451, 0.9372549 ]],\n",
       "\n",
       "        [[0.76862745, 0.78823529, 0.83921569],\n",
       "         [0.76862745, 0.78823529, 0.83921569],\n",
       "         [0.76862745, 0.78823529, 0.83921569],\n",
       "         ...,\n",
       "         [0.89019608, 0.90980392, 0.96078431],\n",
       "         [0.88627451, 0.90588235, 0.95686275],\n",
       "         [0.88627451, 0.90588235, 0.95686275]],\n",
       "\n",
       "        [[0.76470588, 0.78431373, 0.83529412],\n",
       "         [0.76470588, 0.78431373, 0.83529412],\n",
       "         [0.76862745, 0.78823529, 0.83921569],\n",
       "         ...,\n",
       "         [0.89803922, 0.91764706, 0.96862745],\n",
       "         [0.89411765, 0.91372549, 0.96470588],\n",
       "         [0.89019608, 0.90980392, 0.96078431]]],\n",
       "\n",
       "\n",
       "       [[[0.25098039, 0.24313725, 0.4       ],\n",
       "         [0.25098039, 0.24313725, 0.4       ],\n",
       "         [0.25098039, 0.24313725, 0.4       ],\n",
       "         ...,\n",
       "         [0.22745098, 0.21568627, 0.38039216],\n",
       "         [0.22745098, 0.21568627, 0.38039216],\n",
       "         [0.22745098, 0.21568627, 0.38039216]],\n",
       "\n",
       "        [[0.25098039, 0.24313725, 0.4       ],\n",
       "         [0.25098039, 0.24313725, 0.4       ],\n",
       "         [0.25098039, 0.24313725, 0.4       ],\n",
       "         ...,\n",
       "         [0.22745098, 0.21568627, 0.38039216],\n",
       "         [0.22745098, 0.21568627, 0.38039216],\n",
       "         [0.22745098, 0.21568627, 0.38039216]],\n",
       "\n",
       "        [[0.25098039, 0.24313725, 0.4       ],\n",
       "         [0.25098039, 0.24313725, 0.4       ],\n",
       "         [0.25098039, 0.24313725, 0.4       ],\n",
       "         ...,\n",
       "         [0.22745098, 0.21568627, 0.38039216],\n",
       "         [0.22745098, 0.21568627, 0.38039216],\n",
       "         [0.22745098, 0.21568627, 0.38039216]],\n",
       "\n",
       "        ...,\n",
       "\n",
       "        [[0.21960784, 0.21176471, 0.36862745],\n",
       "         [0.21960784, 0.21176471, 0.36862745],\n",
       "         [0.21960784, 0.21176471, 0.36862745],\n",
       "         ...,\n",
       "         [0.21960784, 0.21176471, 0.36862745],\n",
       "         [0.21960784, 0.21176471, 0.36862745],\n",
       "         [0.21960784, 0.21176471, 0.36862745]],\n",
       "\n",
       "        [[0.21960784, 0.21176471, 0.36862745],\n",
       "         [0.21960784, 0.21176471, 0.36862745],\n",
       "         [0.21960784, 0.21176471, 0.36862745],\n",
       "         ...,\n",
       "         [0.21960784, 0.21176471, 0.36862745],\n",
       "         [0.21960784, 0.21176471, 0.36862745],\n",
       "         [0.21960784, 0.21176471, 0.36862745]],\n",
       "\n",
       "        [[0.21960784, 0.21176471, 0.36862745],\n",
       "         [0.21960784, 0.21176471, 0.36862745],\n",
       "         [0.21960784, 0.21176471, 0.36862745],\n",
       "         ...,\n",
       "         [0.21960784, 0.21176471, 0.36862745],\n",
       "         [0.21960784, 0.21176471, 0.36862745],\n",
       "         [0.21960784, 0.21176471, 0.36862745]]],\n",
       "\n",
       "\n",
       "       ...,\n",
       "\n",
       "\n",
       "       [[[0.85490196, 0.89803922, 0.92941176],\n",
       "         [0.85490196, 0.89803922, 0.92941176],\n",
       "         [0.85882353, 0.89411765, 0.92941176],\n",
       "         ...,\n",
       "         [0.36862745, 0.40392157, 0.42745098],\n",
       "         [0.36862745, 0.40392157, 0.42745098],\n",
       "         [0.36862745, 0.40392157, 0.42745098]],\n",
       "\n",
       "        [[0.85490196, 0.89803922, 0.92941176],\n",
       "         [0.85490196, 0.89803922, 0.92941176],\n",
       "         [0.85882353, 0.89411765, 0.92941176],\n",
       "         ...,\n",
       "         [0.37254902, 0.40784314, 0.43137255],\n",
       "         [0.37254902, 0.40784314, 0.43137255],\n",
       "         [0.37254902, 0.40784314, 0.43137255]],\n",
       "\n",
       "        [[0.85490196, 0.89803922, 0.92941176],\n",
       "         [0.85490196, 0.89803922, 0.92941176],\n",
       "         [0.85882353, 0.89411765, 0.92941176],\n",
       "         ...,\n",
       "         [0.37647059, 0.41176471, 0.43529412],\n",
       "         [0.37647059, 0.41176471, 0.43529412],\n",
       "         [0.37647059, 0.41176471, 0.43529412]],\n",
       "\n",
       "        ...,\n",
       "\n",
       "        [[0.86666667, 0.89803922, 0.91372549],\n",
       "         [0.86666667, 0.89803922, 0.91372549],\n",
       "         [0.86666667, 0.89803922, 0.91372549],\n",
       "         ...,\n",
       "         [0.48235294, 0.51764706, 0.54117647],\n",
       "         [0.49803922, 0.53333333, 0.55686275],\n",
       "         [0.50588235, 0.54117647, 0.56470588]],\n",
       "\n",
       "        [[0.86666667, 0.89803922, 0.91372549],\n",
       "         [0.86666667, 0.89803922, 0.91372549],\n",
       "         [0.86666667, 0.89803922, 0.91372549],\n",
       "         ...,\n",
       "         [0.49803922, 0.53333333, 0.55686275],\n",
       "         [0.52941176, 0.56470588, 0.59215686],\n",
       "         [0.54509804, 0.58039216, 0.60392157]],\n",
       "\n",
       "        [[0.86666667, 0.89803922, 0.91372549],\n",
       "         [0.86666667, 0.89803922, 0.91372549],\n",
       "         [0.86666667, 0.89803922, 0.91372549],\n",
       "         ...,\n",
       "         [0.50196078, 0.5372549 , 0.56078431],\n",
       "         [0.54509804, 0.58039216, 0.60392157],\n",
       "         [0.56470588, 0.6       , 0.62352941]]],\n",
       "\n",
       "\n",
       "       [[[0.35294118, 0.42745098, 0.50588235],\n",
       "         [0.35294118, 0.42745098, 0.50588235],\n",
       "         [0.35686275, 0.42745098, 0.50588235],\n",
       "         ...,\n",
       "         [0.39215686, 0.47058824, 0.54901961],\n",
       "         [0.38823529, 0.47058824, 0.54901961],\n",
       "         [0.38823529, 0.47058824, 0.54901961]],\n",
       "\n",
       "        [[0.35294118, 0.42745098, 0.50196078],\n",
       "         [0.35294118, 0.42745098, 0.50196078],\n",
       "         [0.35294118, 0.42745098, 0.50196078],\n",
       "         ...,\n",
       "         [0.38823529, 0.47058824, 0.54901961],\n",
       "         [0.38823529, 0.47058824, 0.54901961],\n",
       "         [0.38823529, 0.47058824, 0.54901961]],\n",
       "\n",
       "        [[0.34901961, 0.42352941, 0.49803922],\n",
       "         [0.34901961, 0.42352941, 0.49803922],\n",
       "         [0.34901961, 0.42352941, 0.49803922],\n",
       "         ...,\n",
       "         [0.38431373, 0.47058824, 0.54509804],\n",
       "         [0.38431373, 0.46666667, 0.54509804],\n",
       "         [0.38431373, 0.46666667, 0.54509804]],\n",
       "\n",
       "        ...,\n",
       "\n",
       "        [[0.08235294, 0.26666667, 0.39607843],\n",
       "         [0.08235294, 0.26666667, 0.39607843],\n",
       "         [0.08235294, 0.26666667, 0.39607843],\n",
       "         ...,\n",
       "         [0.02745098, 0.17254902, 0.29411765],\n",
       "         [0.02745098, 0.17254902, 0.29411765],\n",
       "         [0.02745098, 0.17254902, 0.29411765]],\n",
       "\n",
       "        [[0.08627451, 0.26666667, 0.38823529],\n",
       "         [0.08627451, 0.26666667, 0.38823529],\n",
       "         [0.08627451, 0.2627451 , 0.38823529],\n",
       "         ...,\n",
       "         [0.02745098, 0.17254902, 0.29411765],\n",
       "         [0.03137255, 0.17254902, 0.29803922],\n",
       "         [0.03137255, 0.17647059, 0.29803922]],\n",
       "\n",
       "        [[0.09019608, 0.26666667, 0.38431373],\n",
       "         [0.09019608, 0.26666667, 0.38431373],\n",
       "         [0.09019608, 0.2627451 , 0.38431373],\n",
       "         ...,\n",
       "         [0.03137255, 0.17254902, 0.29411765],\n",
       "         [0.03137255, 0.17647059, 0.29803922],\n",
       "         [0.03137255, 0.17647059, 0.29803922]]],\n",
       "\n",
       "\n",
       "       [[[0.        , 0.0745098 , 0.09803922],\n",
       "         [0.        , 0.0745098 , 0.09803922],\n",
       "         [0.        , 0.07843137, 0.10196078],\n",
       "         ...,\n",
       "         [0.        , 0.05490196, 0.06666667],\n",
       "         [0.        , 0.05882353, 0.07058824],\n",
       "         [0.        , 0.0627451 , 0.07058824]],\n",
       "\n",
       "        [[0.        , 0.0745098 , 0.09803922],\n",
       "         [0.        , 0.0745098 , 0.09803922],\n",
       "         [0.        , 0.07843137, 0.10196078],\n",
       "         ...,\n",
       "         [0.        , 0.05490196, 0.06666667],\n",
       "         [0.        , 0.05882353, 0.07058824],\n",
       "         [0.        , 0.0627451 , 0.07058824]],\n",
       "\n",
       "        [[0.        , 0.0745098 , 0.09803922],\n",
       "         [0.        , 0.07843137, 0.09803922],\n",
       "         [0.        , 0.07843137, 0.10196078],\n",
       "         ...,\n",
       "         [0.00392157, 0.05882353, 0.07058824],\n",
       "         [0.00392157, 0.0627451 , 0.07058824],\n",
       "         [0.00392157, 0.0627451 , 0.0745098 ]],\n",
       "\n",
       "        ...,\n",
       "\n",
       "        [[0.09803922, 0.16862745, 0.12156863],\n",
       "         [0.09803922, 0.16862745, 0.12156863],\n",
       "         [0.10196078, 0.17254902, 0.1254902 ],\n",
       "         ...,\n",
       "         [0.50588235, 0.61960784, 0.52156863],\n",
       "         [0.50980392, 0.62352941, 0.5254902 ],\n",
       "         [0.50980392, 0.62352941, 0.5254902 ]],\n",
       "\n",
       "        [[0.09803922, 0.16862745, 0.12156863],\n",
       "         [0.09803922, 0.16862745, 0.12156863],\n",
       "         [0.10196078, 0.17254902, 0.1254902 ],\n",
       "         ...,\n",
       "         [0.50980392, 0.62352941, 0.5254902 ],\n",
       "         [0.50980392, 0.62352941, 0.5254902 ],\n",
       "         [0.51372549, 0.62745098, 0.52941176]],\n",
       "\n",
       "        [[0.09803922, 0.16862745, 0.12156863],\n",
       "         [0.09803922, 0.16862745, 0.12156863],\n",
       "         [0.10196078, 0.17254902, 0.1254902 ],\n",
       "         ...,\n",
       "         [0.50980392, 0.62352941, 0.5254902 ],\n",
       "         [0.51372549, 0.62745098, 0.52941176],\n",
       "         [0.51372549, 0.62745098, 0.52941176]]]])"
      ]
     },
     "execution_count": 26,
     "metadata": {},
     "output_type": "execute_result"
    }
   ],
   "source": [
    "# x_test"
   ]
  },
  {
   "cell_type": "code",
   "execution_count": null,
   "metadata": {},
   "outputs": [],
   "source": [
    "# compiling the model & summary\n",
    "model.compile(optimizer=Adam(lr=0.001),\n",
    "              loss='categorical_crossentropy',metrics=['accuracy'])\n",
    "model.summary()"
   ]
  },
  {
   "cell_type": "code",
   "execution_count": null,
   "metadata": {},
   "outputs": [],
   "source": [
    "from skimage.color import rgb2gray\n",
    "import numpy as np\n",
    "import cv2\n",
    "import matplotlib.pyplot as plt\n",
    "%matplotlib inline\n",
    "from scipy import ndimage"
   ]
  },
  {
   "cell_type": "code",
   "execution_count": null,
   "metadata": {},
   "outputs": [],
   "source": [
    "# fitting training set and making predictions on the validation set\n",
    "\n",
    "History = model.fit(x_train, y_train, epochs=50)\n",
    "\n",
    "# History = model.fit_generator(datagen.flow(x_train,y_train, batch_size=batch_size),\n",
    "#                               epochs = epochs, validation_data = (x_test,y_test),\n",
    "#                               verbose = 1, steps_per_epoch=x_train.shape[0] // batch_size)"
   ]
  },
  {
   "cell_type": "code",
   "execution_count": null,
   "metadata": {},
   "outputs": [],
   "source": [
    "test_loss, test_acc = model.evaluate(x_test, y_test, verbose=1)\n",
    "\n",
    "print('\\nTest accuracy:', test_acc)"
   ]
  },
  {
   "cell_type": "code",
   "execution_count": null,
   "metadata": {},
   "outputs": [],
   "source": [
    "probability_model = tf.keras.Sequential([model, \n",
    "                                         tf.keras.layers.Softmax()])"
   ]
  },
  {
   "cell_type": "code",
   "execution_count": null,
   "metadata": {},
   "outputs": [],
   "source": [
    "predictions = probability_model.predict(x_test)"
   ]
  },
  {
   "cell_type": "code",
   "execution_count": null,
   "metadata": {},
   "outputs": [],
   "source": [
    "predictions[0]"
   ]
  },
  {
   "cell_type": "code",
   "execution_count": null,
   "metadata": {},
   "outputs": [],
   "source": [
    "np.argmax(predictions[0])"
   ]
  },
  {
   "cell_type": "code",
   "execution_count": null,
   "metadata": {},
   "outputs": [],
   "source": [
    "class_names = ['No Varroa', 'With Varroa']"
   ]
  },
  {
   "cell_type": "code",
   "execution_count": null,
   "metadata": {},
   "outputs": [],
   "source": [
    "class_names[np.argmax(predictions[0])]"
   ]
  },
  {
   "cell_type": "code",
   "execution_count": null,
   "metadata": {},
   "outputs": [],
   "source": [
    "class_names[np.argmax(predictions[1])]"
   ]
  },
  {
   "cell_type": "code",
   "execution_count": null,
   "metadata": {},
   "outputs": [],
   "source": [
    "i = 0\n",
    "for row in data.iterrows():\n",
    "    print(i)\n",
    "    i += 1\n",
    "    print(row)\n",
    "#     if row['has_varroa'] == 1:\n",
    "#         print(row)\n",
    "# data = data[[\"file\",\"has_varroa\"]]\n",
    "# data"
   ]
  },
  {
   "cell_type": "code",
   "execution_count": null,
   "metadata": {},
   "outputs": [],
   "source": [
    "class_names[np.argmax(predictions[1021])]"
   ]
  },
  {
   "cell_type": "code",
   "execution_count": null,
   "metadata": {},
   "outputs": [],
   "source": [
    "# graph for model accuracy between training and validation\n",
    "# plt.plot(History.history['accuracy'])\n",
    "# plt.plot(History.history['val_accuracy'])\n",
    "# plt.title('Model Accuracy')\n",
    "# plt.ylabel('Accuracy')\n",
    "# plt.xlabel('Epochs')\n",
    "# plt.legend(['test', 'train'])\n",
    "# plt.show()"
   ]
  },
  {
   "cell_type": "code",
   "execution_count": null,
   "metadata": {},
   "outputs": [],
   "source": [
    "# print(x_test)\n",
    "# predictions = model.predict(x_test)\n",
    "# print(predictions)\n",
    "# print(predictions[0])"
   ]
  },
  {
   "cell_type": "code",
   "execution_count": null,
   "metadata": {},
   "outputs": [],
   "source": [
    "# class_names = ['No Varroa', 'With Varroa']\n",
    "\n",
    "# def plot_image(i, predictions_array, true_label, img):\n",
    "#   true_label, img = true_label[i], img[i]\n",
    "#   plt.grid(False)\n",
    "#   plt.xticks([])\n",
    "#   plt.yticks([])\n",
    "\n",
    "#   plt.imshow(img, cmap=plt.cm.binary)\n",
    "\n",
    "#   predicted_label = np.argmax(predictions_array)\n",
    "#   if predicted_label == true_label:\n",
    "#     color = 'blue'\n",
    "#   else:\n",
    "#     color = 'red'\n",
    "\n",
    "#   plt.xlabel(\"{} {:2.0f}% ({})\".format(class_names[predicted_label],\n",
    "#                                 100*np.max(predictions_array),\n",
    "#                                 class_names[true_label]),\n",
    "#                                 color=color)\n",
    "\n",
    "# def plot_value_array(i, predictions_array, true_label):\n",
    "#   true_label = true_label[i]\n",
    "#   plt.grid(False)\n",
    "#   plt.xticks(range(7))\n",
    "#   plt.yticks([])\n",
    "#   thisplot = plt.bar(range(7), predictions_array, color=\"#777777\")\n",
    "#   plt.ylim([0, 1])\n",
    "#   predicted_label = np.argmax(predictions_array)\n",
    "\n",
    "#   thisplot[predicted_label].set_color('red')\n",
    "#   thisplot[true_label].set_color('blue')"
   ]
  },
  {
   "cell_type": "code",
   "execution_count": null,
   "metadata": {},
   "outputs": [],
   "source": [
    "# y_ = [np.argmax(y_test, axis=None, out=None) for y in y_test]\n",
    "# for i in range(100):\n",
    "#     plt.figure(figsize=(6,3))\n",
    "#     plt.subplot(1,2,1)\n",
    "#     plot_image(i, predictions[i], y_, x_test)\n",
    "#     plt.subplot(1,2,2)\n",
    "#     plot_value_array(i, predictions[i], y_)\n",
    "#     #plt.show()\n",
    "# plt.tight_layout()"
   ]
  },
  {
   "cell_type": "code",
   "execution_count": null,
   "metadata": {},
   "outputs": [],
   "source": [
    "# export model\n",
    "model_path = \"../varroa_det_model_v1\"\n",
    "model.save(model_path)"
   ]
  },
  {
   "cell_type": "code",
   "execution_count": null,
   "metadata": {},
   "outputs": [],
   "source": [
    "# load model\n",
    "from tensorflow import keras\n",
    "loaded_model = keras.models.load_model(model_path)"
   ]
  },
  {
   "cell_type": "code",
   "execution_count": null,
   "metadata": {},
   "outputs": [],
   "source": [
    "# verify that the exported model works properly\n",
    "prediction_by_model = model.predict(x)\n",
    "prediction_by_loaded_model = loaded_model.predict(x_test)"
   ]
  },
  {
   "cell_type": "code",
   "execution_count": null,
   "metadata": {},
   "outputs": [],
   "source": [
    "print(prediction_by_model[0])\n",
    "print(prediction_by_loaded_model[0])"
   ]
  },
  {
   "cell_type": "code",
   "execution_count": null,
   "metadata": {},
   "outputs": [],
   "source": [
    "from tensorflow.keras.preprocessing.image import img_to_array\n",
    "import cv2\n",
    "import numpy as np\n",
    "from tensorflow.keras.preprocessing import image\n",
    "\n",
    "def classify(img_path, saved_model, class_names):\n",
    "    # Preprocess image\n",
    "    IMG_SIZE = 150\n",
    "    img = cv2.imread(img_path, cv2.IMREAD_COLOR)\n",
    "    img = cv2.resize(img, (IMG_SIZE, IMG_SIZE))\n",
    "    img = cv2.GaussianBlur(img, (5, 5), 0)\n",
    "    img = img.astype(\"float\") / 255.0\n",
    "    img_array = image.img_to_array(img)\n",
    "    img_batch = np.expand_dims(img_array, axis=0)\n",
    "    \n",
    "    prediction = saved_model.predict(img_batch)\n",
    "    # print(prediction)\n",
    "    print(class_names[np.argmax(prediction)] + '(' + str(round(100*np.max(prediction), 2)) + '%)')"
   ]
  },
  {
   "cell_type": "code",
   "execution_count": null,
   "metadata": {},
   "outputs": [],
   "source": [
    "classify('../annotated-honeybee-dataset/bee_imgs/021_235.png', loaded_model, class_names)"
   ]
  },
  {
   "cell_type": "code",
   "execution_count": null,
   "metadata": {},
   "outputs": [],
   "source": [
    "classify('../annotated-honeybee-dataset/bee_imgs/038_042.png', loaded_model, class_names)"
   ]
  },
  {
   "cell_type": "code",
   "execution_count": null,
   "metadata": {},
   "outputs": [],
   "source": [
    "predictions = model.predict(x_test)\n",
    "predictions"
   ]
  },
  {
   "cell_type": "code",
   "execution_count": null,
   "metadata": {},
   "outputs": [],
   "source": [
    "classify('../test_dataset/honeybee_with_varroa/001_001.jpeg', loaded_model, class_names)"
   ]
  },
  {
   "cell_type": "code",
   "execution_count": null,
   "metadata": {},
   "outputs": [],
   "source": [
    "classify('../test_dataset/honeybee_with_varroa/001_002.jpg', loaded_model, class_names)"
   ]
  },
  {
   "cell_type": "code",
   "execution_count": null,
   "metadata": {},
   "outputs": [],
   "source": [
    "classify('../test_dataset/honeybee_with_varroa/001_003.png', loaded_model, class_names)"
   ]
  },
  {
   "cell_type": "code",
   "execution_count": null,
   "metadata": {},
   "outputs": [],
   "source": [
    "classify('../test_dataset/honeybee_without_varroa/001_001.jpeg', loaded_model, class_names)"
   ]
  },
  {
   "cell_type": "code",
   "execution_count": null,
   "metadata": {},
   "outputs": [],
   "source": [
    "classify('../test_dataset/honeybee_without_varroa/001_002.jpg', loaded_model, class_names)"
   ]
  },
  {
   "cell_type": "code",
   "execution_count": null,
   "metadata": {},
   "outputs": [],
   "source": [
    "classify('../test_dataset/honeybee_without_varroa/001_003.jpeg', loaded_model, class_names)"
   ]
  },
  {
   "cell_type": "code",
   "execution_count": null,
   "metadata": {},
   "outputs": [],
   "source": [
    "classify('../bee_test/001_005.jpg', loaded_model, class_names)"
   ]
  },
  {
   "cell_type": "code",
   "execution_count": null,
   "metadata": {},
   "outputs": [],
   "source": [
    "classify('../bee_test/001_006.jpg', loaded_model, class_names)"
   ]
  },
  {
   "cell_type": "code",
   "execution_count": null,
   "metadata": {},
   "outputs": [],
   "source": [
    "classify('../bee_test/001_007.png', loaded_model, class_names)"
   ]
  },
  {
   "cell_type": "code",
   "execution_count": null,
   "metadata": {},
   "outputs": [],
   "source": [
    "classify('../bee_test/001_008.jpg', loaded_model, class_names)"
   ]
  },
  {
   "cell_type": "code",
   "execution_count": null,
   "metadata": {},
   "outputs": [],
   "source": [
    "classify('../bee_test/001_009.jpg', loaded_model, class_names)"
   ]
  },
  {
   "cell_type": "code",
   "execution_count": null,
   "metadata": {},
   "outputs": [],
   "source": []
  }
 ],
 "metadata": {
  "kernelspec": {
   "display_name": "Python 3",
   "language": "python",
   "name": "python3"
  },
  "language_info": {
   "codemirror_mode": {
    "name": "ipython",
    "version": 3
   },
   "file_extension": ".py",
   "mimetype": "text/x-python",
   "name": "python",
   "nbconvert_exporter": "python",
   "pygments_lexer": "ipython3",
   "version": "3.6.9"
  }
 },
 "nbformat": 4,
 "nbformat_minor": 4
}
